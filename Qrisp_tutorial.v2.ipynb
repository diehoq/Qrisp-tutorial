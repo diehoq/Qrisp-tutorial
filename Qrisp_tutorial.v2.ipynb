{
 "cells": [
  {
   "cell_type": "markdown",
   "id": "ebe8e678",
   "metadata": {},
   "source": [
    "# Implementing Shor's Algorithm using the Qrisp framework on Cat Qubits\n",
    "This tutorial will walk you through the implementation of the famous Shor's algorithm for prime factoring using Qrisp on the Alice&Bob's Qiskit Provider. \n",
    "\n",
    "\n",
    "### Why Shor's prime factoring algorithm?\n",
    "A fair question is to ask why it is of any interest to implement Shor's algorithm and run it with a noise model. It all boils down to the quantum advantage that is provided by the quantum algorithm: the current state of the art classical algorithm for prime factoring is the [general number field sieve](https://en.wikipedia.org/wiki/General_number_field_sieve) (GNFS) which, under some assumptions, achieves the prime factoring of a integer in super-polynomial but sub-exponential time. On the contrary, Shor's algorithm promises a polynomial time to achieve the same task. Equivalently said, Shor's algorithm assures an superpolynomial speedup when compared with a classical algorithm. \n",
    "Published in 1994 by Peter Shor, Shor's algorithm shook the field of theoretical computer science, giving a glance of how powerful quantum computation could be. The implications of successfully running the Shor's algorithm on an actual machine are several, but let's just cite the most hype-generating one: the security of the popular RSA cryptosystem is based on the assumption that prime factorization is computationally hard. Well, that's not true anymore with Shor's algorithm.\n",
    "\n",
    "### Why Cat Qubits?\n",
    "However, we are far from running the algorithm efficiently on a quantum computer, since qubits and operations between them are noisy; at the moment, the information stored in the system is completaly lost after few operations. People in the field are frenatically trying to solve this problem by designing new and more efficient [quantum error correction codes](https://en.wikipedia.org/wiki/Quantum_error_correction) that are supposed to detect and correct errors. In the quantum realm, the errors on a elementary piece of information are bidimensional: you can have bit-flips ( $|0\\rangle \\leftrightarrow |1\\rangle$ ) and phase-flips ( $|+\\rangle \\leftrightarrow |-\\rangle$ ). Luckily, there exist a technology that is able to take care of one source of error, by exponentially subpressing the bit-flip rate, virtually allowing to only deal with the other type of error: the cat qubits architecture. We have a whole [series of tutorial](https://github.com/Alice-Bob-SW/emulation-examples/blob/main/0%20-%20An%20introduction%20to%20cat%20qubits.ipynb) and [suggested readings]() if you want to know more about it.\n",
    "\n",
    "Shor's algorithm requires considerably low error rates to give proper results - we will talk about numbers in a following section, when we will do the resource estimation of the algorithm - and therefore error correction is needed. So we tought - wait a second, why don't we use cat qubits then, which are the qubits of the future. And that's what we are going to do.\n",
    "\n",
    "### Why Qrisp?\n",
    "Qrisp is a high-level programming language for creating and compiling quantum algorithms which features numerous characteristics to smooth the workflow when writing and executing a quantum algorithm. \n",
    "If you want to get familiar with the Qrisp framework, have a look at the dedicated [series of tutorials](https://qrisp.eu/general/tutorial/index.html) available on Qrisp's website.\n",
    "\n",
    "Qrisp provides full compatibility with Qiskit's framework and it is possible to run Qrisp code directly on the Qiskit's backend making use of the `VirtualQiskitBackend`. This allows us to intantiate the emulator using the Alice & Bob Qiskit Provider as backend and run the code on a cat qubits architechture.\n",
    "\n",
    "\n"
   ]
  },
  {
   "cell_type": "code",
   "execution_count": 23,
   "id": "3a32e67d-f628-4f47-a945-b44a342cd6ac",
   "metadata": {},
   "outputs": [],
   "source": [
    "from qrisp import *\n",
    "from qrisp.interface import VirtualQiskitBackend\n",
    "from qiskit_alice_bob_provider.local.provider import AliceBobLocalProvider\n",
    "\n",
    "provider = AliceBobLocalProvider()\n",
    "backend = provider.get_backend('EMU:40Q:LOGICAL_TARGET')\n",
    "vrtl_qasm_sim = VirtualQiskitBackend(backend)"
   ]
  },
  {
   "cell_type": "code",
   "execution_count": 24,
   "id": "963c9533",
   "metadata": {},
   "outputs": [],
   "source": [
    "import math\n",
    "import random\n",
    "import numpy as np"
   ]
  },
  {
   "cell_type": "markdown",
   "id": "c38e52c5",
   "metadata": {},
   "source": [
    "We would like to perform the trivial task of prime factoring the number 15. We all know that 5x3 = 15, but sometimes is better to double-check - or triple-check, as in this case. \n",
    "\n",
    "We want to compare the performance of the classical algorithm with the Shor's algorithm"
   ]
  },
  {
   "cell_type": "code",
   "execution_count": 3,
   "id": "5c9f3942",
   "metadata": {},
   "outputs": [],
   "source": [
    "def is_prime(n):\n",
    "    if n <= 1:\n",
    "        return False\n",
    "    elif n <= 3:\n",
    "        return True\n",
    "    elif n % 2 == 0 or n % 3 == 0:\n",
    "        return False\n",
    "    i = 5\n",
    "    while i * i <= n:\n",
    "        if n % i == 0 or n % (i + 2) == 0:\n",
    "            return False\n",
    "        i += 6\n",
    "    return True\n",
    "\n",
    "def find_period_classical(g,N):\n",
    "    e = 1\n",
    "    while(pow(g, e, N) != 1):\n",
    "        e = e+1\n",
    "    return e\n",
    "\n",
    "def classical_Shor(N):\n",
    "    if N % 2 == 0:\n",
    "        return (2, N // 2)\n",
    "    if (is_prime(N)):\n",
    "        return (1,N)\n",
    "    \n",
    "    while True:\n",
    "        a = random.randint(2, N - 1)\n",
    "        if math.gcd(a, N) != 1:\n",
    "            return math.gcd(a, N), N // math.gcd(a, N)\n",
    "        \n",
    "        r = find_period_classical(a, N)\n",
    "        \n",
    "        if r % 2 == 0:\n",
    "            x = pow(a, r // 2, N)\n",
    "            p = math.gcd(x - 1, N)\n",
    "            q = math.gcd(x + 1, N)\n",
    "            if p != 1 and p != N:\n",
    "                return (p, N // p)\n",
    "            if q != 1 and q != N:\n",
    "                return (q, N // q)"
   ]
  },
  {
   "cell_type": "code",
   "execution_count": 4,
   "id": "e4a50a51",
   "metadata": {},
   "outputs": [
    {
     "name": "stdout",
     "output_type": "stream",
     "text": [
      "Test passed!\n"
     ]
    }
   ],
   "source": [
    "N=10000\n",
    "check_list = list()\n",
    "for i in range(2,N):\n",
    "    (p,q) = classical_Shor(i)\n",
    "    check = (p*q == i)\n",
    "    if(check==False):\n",
    "        print(i, (p,q))\n",
    "else:\n",
    "    print('Test passed!')"
   ]
  },
  {
   "cell_type": "code",
   "execution_count": 5,
   "id": "9662c206-a627-4a79-b3e8-0abe336f9140",
   "metadata": {},
   "outputs": [],
   "source": [
    "from sympy import continued_fraction_convergents, continued_fraction_iterator, Rational\n",
    "\n",
    "def get_r_candidates(approx):\n",
    "    rationals = continued_fraction_convergents(continued_fraction_iterator(Rational(approx)))\n",
    "    return [rat.q for rat in rationals]"
   ]
  },
  {
   "cell_type": "code",
   "execution_count": 6,
   "id": "223cabc4-2905-4edb-93b1-33457a85d4ba",
   "metadata": {},
   "outputs": [],
   "source": [
    "def find_order(a, N):\n",
    "    qg = QuantumModulus(N)\n",
    "    qg[:] = 1\n",
    "    qpe_res = QuantumFloat(2*qg.size + 1, exponent = -(2*qg.size + 1))\n",
    "    h(qpe_res)\n",
    "    x=a\n",
    "    for i in range(len(qpe_res)):\n",
    "        with control(qpe_res[i]):\n",
    "            qg *= x\n",
    "            x = (x*x)%N\n",
    "    QFT(qpe_res, inv = True)\n",
    "    return qpe_res.get_measurement(backend=vrtl_qasm_sim)"
   ]
  },
  {
   "cell_type": "code",
   "execution_count": 7,
   "id": "7ae6d0cd",
   "metadata": {},
   "outputs": [],
   "source": [
    "def quantum_shor(a,N):\n",
    "    meas_res = find_order(a,N)\n",
    "    r_candidates = sum([get_r_candidates(approx) for approx in meas_res.keys()], [])\n",
    "    for cand in r_candidates:\n",
    "        if (a**cand)%N == 1:\n",
    "            r = cand\n",
    "            break\n",
    "    else:\n",
    "        raise Exception(\"Please sample again\")\n",
    "    if r % 2:\n",
    "        raise Exception(\"Please choose another a\")\n",
    "    p = np.gcd(a**(r//2)+1, N)\n",
    "    q = int(N/p)\n",
    "    if(p>q):\n",
    "        return(q,p)\n",
    "    return(p,q)\n"
   ]
  },
  {
   "cell_type": "code",
   "execution_count": 8,
   "metadata": {},
   "outputs": [
    {
     "data": {
      "text/plain": [
       "(3, 5)"
      ]
     },
     "execution_count": 8,
     "metadata": {},
     "output_type": "execute_result"
    }
   ],
   "source": [
    "N = 15\n",
    "a = 2\n",
    "quantum_shor(a,N)"
   ]
  },
  {
   "cell_type": "markdown",
   "id": "d2e25a83-be47-41e6-984a-182053e7c705",
   "metadata": {},
   "source": [
    "The remarkable aspect of the Qrips' framework is the compactness and simplicity of implementing a fairly complex algorithm, such as Shor's, in a few lines of code as well as the relatively high level of abstraction with respect to gate-level. This task is much more complex to achieve in Qiskit, for example. You can find either a [specific tutorial to factor 15 with an hard-coded circuit](https://github.com/qiskit-community/qiskit-community-tutorials/blob/master/algorithms/shor_algorithm.ipynb); either a [general implementation](https://github.com/Qiskit/qiskit/blob/9c8eb06984c91156eac078f3d2d73b4cf68370b4/qiskit/algorithms/factorizers/shor.py), which has become deprecated. \n",
    "\n",
    "In both cases, however, you are forced to operate at gate-level and deal with Qiskit's circuit management technicalities."
   ]
  },
  {
   "cell_type": "markdown",
   "id": "2b098bd5",
   "metadata": {},
   "source": [
    "### But why is it so slow?\n",
    "Suppose for the moment to run a noiseless classical simulation of a quantum algorithm. [Gottesman-Knill theorem](https://en.wikipedia.org/wiki/Gottesman%E2%80%93Knill_theorem) states that circuits composed of Clifford gates can be perfectly simulated in polynomial time on a probabilistic classical computer. Shor's algorithm, however, uses non-Clifford gates and as a result the simulation is much longer than in the classical case, even for small instances.\n",
    "On top of that, when adding a noise model, the number of internal operations performed by Qiskit's backend increases noticeably the computational cost, partially inficiating sparsity assumption of matrix operations and storage.\n",
    "\n",
    "\n",
    "Anyway, Shor's prime factoring algoritms remains to this day the simplest algorithm to provide an exponential speedup and actually observing it a work could give great insight into the realm of quantum computation."
   ]
  },
  {
   "cell_type": "code",
   "execution_count": 16,
   "id": "d75ec57a",
   "metadata": {},
   "outputs": [],
   "source": [
    "backend = provider.get_backend('EMU:15Q:LOGICAL_EARLY')\n",
    "vrtl_qasm_sim = VirtualQiskitBackend(backend)\n",
    "\n",
    "N = 15\n",
    "a = 2"
   ]
  },
  {
   "cell_type": "code",
   "execution_count": 25,
   "id": "d642eb8e",
   "metadata": {},
   "outputs": [
    {
     "data": {
      "text/plain": [
       "<QuantumFloat 'qpe_res'>"
      ]
     },
     "execution_count": 25,
     "metadata": {},
     "output_type": "execute_result"
    }
   ],
   "source": [
    "qg = QuantumModulus(N)\n",
    "qg[:] = 1\n",
    "qpe_res = QuantumFloat(2*qg.size + 1, exponent = -(2*qg.size + 1))\n",
    "h(qpe_res)\n",
    "x=a\n",
    "for i in range(len(qpe_res)):\n",
    "    with control(qpe_res[i]):\n",
    "        qg *= x\n",
    "        x = (x*x)%N\n",
    "QFT(qpe_res, inv = True)"
   ]
  },
  {
   "cell_type": "code",
   "execution_count": 26,
   "id": "a1f15123",
   "metadata": {},
   "outputs": [
    {
     "name": "stdout",
     "output_type": "stream",
     "text": [
      "9\n",
      "4\n",
      "882\n"
     ]
    }
   ],
   "source": [
    "print(qpe_res.size)\n",
    "print(qg.size)\n",
    "print(qg.qs.depth())\n"
   ]
  },
  {
   "cell_type": "code",
   "execution_count": 27,
   "id": "be8a6253",
   "metadata": {},
   "outputs": [],
   "source": [
    "qc_qiskit = qpe_res.qs.to_qiskit()"
   ]
  },
  {
   "cell_type": "code",
   "execution_count": 28,
   "id": "b9f37ce5",
   "metadata": {},
   "outputs": [
    {
     "data": {
      "text/plain": [
       "37"
      ]
     },
     "execution_count": 28,
     "metadata": {},
     "output_type": "execute_result"
    }
   ],
   "source": [
    "qc_qiskit.width()"
   ]
  },
  {
   "cell_type": "code",
   "execution_count": 29,
   "id": "bd2b619a",
   "metadata": {},
   "outputs": [],
   "source": [
    "from qiskit import transpile\n",
    "qc_qiskit_transpiled_TARGET = transpile(qc_qiskit,backend=backend) "
   ]
  },
  {
   "cell_type": "code",
   "execution_count": 30,
   "id": "4ddd64b7",
   "metadata": {},
   "outputs": [
    {
     "data": {
      "text/plain": [
       "40111"
      ]
     },
     "execution_count": 30,
     "metadata": {},
     "output_type": "execute_result"
    }
   ],
   "source": [
    "qc_qiskit_transpiled_TARGET.depth()"
   ]
  },
  {
   "cell_type": "code",
   "execution_count": 31,
   "id": "15aa3977",
   "metadata": {},
   "outputs": [
    {
     "name": "stdout",
     "output_type": "stream",
     "text": [
      "521443\n"
     ]
    }
   ],
   "source": [
    "q_volume = qc_qiskit_transpiled_TARGET.depth() * (qpe_res.size + qg.size)  #width * depth of the circuit\n",
    "print(q_volume)"
   ]
  },
  {
   "cell_type": "code",
   "execution_count": null,
   "id": "03e87bbe",
   "metadata": {},
   "outputs": [],
   "source": [
    "# backend = provider.get_backend('EMU:15Q:LOGICAL_EARLY')\n",
    "# N = 15\n",
    "# a = 2\n",
    "# quantum_shor(a,N)"
   ]
  },
  {
   "cell_type": "code",
   "execution_count": null,
   "id": "96d8ca0a",
   "metadata": {},
   "outputs": [],
   "source": [
    "# for _ in range(10):\n",
    "#     print(quantum_shor(a,N))"
   ]
  },
  {
   "cell_type": "markdown",
   "id": "062746e8",
   "metadata": {},
   "source": [
    "EMU:15Q:LOGICAL_EARLY\n",
    "\n",
    "- 1 ≤ nb_shots (int) ≤ 10⁷ . Default 1000\n",
    "- 4.0 ≤ average_nb_photons (float) ≤ 10⁵. Default 7.0\n",
    "- 10.0 < kappa_1 (float) ≤ 10⁵. Default 100.0\n",
    "- 100.0 ≤ kappa_2 (float) ≤ 10⁹. Default 10⁵\n",
    "- 10⁻⁷ ≤ kappa_1 / kappa_2 ≤ 10⁻¹\n",
    "- 3 ≤ distance (int) ≤ 300. Default 13. Distance must be an odd number.\n",
    "\n",
    "EMU:40Q:LOGICAL_TARGET\n",
    "\n",
    "- 1 ≤ nb_shots (int) ≤ 10⁷ . Default 1000\n",
    "- 4.0 ≤ average_nb_photons (float) ≤ 10⁵. Default 19.0\n",
    "- 10.0 < kappa_1 (float) ≤ 10⁵. Default 100.0\n",
    "- 100.0 ≤ kappa_2 (float) ≤ 10⁹. Default 10⁷\n",
    "- 10⁻⁷ ≤ kappa_1 / kappa_2 ≤ 10⁻¹\n",
    "- 3 ≤ distance (int) ≤ 300. Default 15. Distance must be an odd number."
   ]
  },
  {
   "cell_type": "code",
   "execution_count": 38,
   "id": "9d438274",
   "metadata": {},
   "outputs": [],
   "source": [
    "from qiskit_alice_bob_provider.processor.logical_cat import _cx_error, _ccx_error, _1q_logical_error, _idle_error, _logical_bit_flip_error, _logical_phase_flip_error, _discrete_gate_time\n",
    "\n",
    "from qiskit_alice_bob_provider.local.backend import ProcessorSimulator\n",
    "from qiskit_alice_bob_provider.processor.logical_cat import LogicalCatProcessor"
   ]
  },
  {
   "cell_type": "code",
   "execution_count": 44,
   "id": "4001dec5",
   "metadata": {},
   "outputs": [
    {
     "name": "stdout",
     "output_type": "stream",
     "text": [
      "{'X': 6.485082737556214e-05, 'Y': 6.485082737556214e-05, 'Z': 0.49993514917262444}\n",
      "{'XI': 3.242120805796978e-05, 'YI': 3.242120805796978e-05, 'ZI': 0.24993515337825428, 'IX': 3.242120805796978e-05, 'IY': 3.242120805796978e-05, 'IZ': 0.24993515337825428, 'XX': 4.205629811294959e-09, 'YX': 4.205629811294959e-09, 'ZX': 3.242120805796977e-05, 'XY': 4.205629811294959e-09, 'YY': 4.205629811294959e-09, 'ZY': 3.242120805796977e-05, 'XZ': 3.242120805796977e-05, 'YZ': 3.242120805796977e-05, 'ZZ': 0.24993515337825425}\n",
      "{'XII': 1.6208501486817795e-05, 'YII': 1.6208501486817795e-05, 'ZII': 0.12495136818764019, 'IXI': 1.6208501486817816e-05, 'IYI': 1.6208501486817816e-05, 'IZI': 0.12495136818764034, 'IIX': 1.6208501486817816e-05, 'IIY': 1.6208501486817816e-05, 'IIZ': 0.12495136818764034, 'IXX': 2.1025421670745823e-09, 'IYX': 2.1025421670745823e-09, 'IZX': 1.6208501486817812e-05, 'IXY': 2.1025421670745823e-09, 'IYY': 2.1025421670745823e-09, 'IZY': 1.6208501486817812e-05, 'IXZ': 1.6208501486817812e-05, 'IYZ': 1.6208501486817812e-05, 'IZZ': 0.12495136818764033, 'XXI': 2.1025421670745823e-09, 'YXI': 2.1025421670745823e-09, 'ZXI': 1.6208501486817816e-05, 'XYI': 2.1025421670745823e-09, 'YYI': 2.1025421670745823e-09, 'ZYI': 1.6208501486817816e-05, 'XZI': 1.6208501486817816e-05, 'YZI': 1.6208501486817816e-05, 'ZZI': 0.12495136818764033, 'XIX': 2.1025421670745823e-09, 'YIX': 2.1025421670745823e-09, 'ZIX': 1.6208501486817816e-05, 'XIY': 2.1025421670745823e-09, 'YIY': 2.1025421670745823e-09, 'ZIY': 1.6208501486817816e-05, 'XIZ': 1.6208501486817816e-05, 'YIZ': 1.6208501486817816e-05, 'ZIZ': 0.12495136818764033, 'XXX': 2.7273857289780735e-13, 'YXX': 2.7273857289780735e-13, 'ZXX': 2.102542167074582e-09, 'XYX': 2.7273857289780735e-13, 'YYX': 2.7273857289780735e-13, 'ZYX': 2.102542167074582e-09, 'XZX': 2.102542167074582e-09, 'YZX': 2.102542167074582e-09, 'ZZX': 1.6208501486817812e-05, 'XXY': 2.7273857289780735e-13, 'YXY': 2.7273857289780735e-13, 'ZXY': 2.102542167074582e-09, 'XYY': 2.7273857289780735e-13, 'YYY': 2.7273857289780735e-13, 'ZYY': 2.102542167074582e-09, 'XZY': 2.102542167074582e-09, 'YZY': 2.102542167074582e-09, 'ZZY': 1.6208501486817812e-05, 'XXZ': 2.102542167074582e-09, 'YXZ': 2.102542167074582e-09, 'ZXZ': 1.6208501486817812e-05, 'XYZ': 2.102542167074582e-09, 'YYZ': 2.102542167074582e-09, 'ZYZ': 1.6208501486817812e-05, 'XZZ': 1.6208501486817812e-05, 'YZZ': 1.6208501486817812e-05, 'ZZZ': 0.12495136818764031}\n",
      "{'X': 0, 'Z': 0}\n",
      "0.0001297184801801566\n",
      "141911671059.77063\n"
     ]
    }
   ],
   "source": [
    "distance = 13\n",
    "n_qubits = 40 # the maximum number of qubit must be larger than the total number of qubit in order to transpile\n",
    "kappa_1 = 100\n",
    "kappa_2= 1000\n",
    "average_nb_photons=7\n",
    "t = 1e-3\n",
    "name='EMU:15Q:CUSTUM'\n",
    "\n",
    "backend = ProcessorSimulator(LogicalCatProcessor(distance=distance, n_qubits=n_qubits, kappa_1=kappa_1, kappa_2=kappa_2, average_nb_photons = 7))\n",
    "backend.name = name\n",
    "vrtl_qasm_sim = VirtualQiskitBackend(backend)\n",
    "\n",
    "print(_1q_logical_error(d=distance, nbar=average_nb_photons, k1=kappa_1, k2=kappa_2))\n",
    "print(_cx_error(d=distance, nbar=average_nb_photons, k1=kappa_1, k2=kappa_2))\n",
    "print(_ccx_error(d=distance, nbar=average_nb_photons, k1=kappa_1, k2=kappa_2))\n",
    "print(_idle_error(t=t, d=distance, nbar=average_nb_photons, k1=kappa_1, k2=kappa_2))\n",
    "print(_logical_bit_flip_error(d=distance, nbar=average_nb_photons))\n",
    "print(_logical_phase_flip_error(d=distance, nbar=average_nb_photons, k1=kappa_1, k2=kappa_2))\n",
    "\n"
   ]
  },
  {
   "cell_type": "code",
   "execution_count": 45,
   "id": "b6aa9993",
   "metadata": {},
   "outputs": [
    {
     "data": {
      "text/plain": [
       "(3, 5)"
      ]
     },
     "execution_count": 45,
     "metadata": {},
     "output_type": "execute_result"
    }
   ],
   "source": [
    "quantum_shor(a,N)"
   ]
  },
  {
   "cell_type": "markdown",
   "id": "e55d06d0",
   "metadata": {},
   "source": [
    "### LOGICAL EARLY in QISKIT"
   ]
  },
  {
   "cell_type": "code",
   "execution_count": 46,
   "id": "8cbfc951",
   "metadata": {},
   "outputs": [
    {
     "ename": "TranspilerError",
     "evalue": "\"Unable to translate the operations in the circuit: ['p', 'cx', 'cswap', 'initialize', 'h', 'x', 'ry', 'swap'] to the backend's (or manually specified) target basis: ['delay', 'ccx', 'measure', 't', 'h', 'snapshot', 'measure_x', 'tdg', 'x', 'cx', 'barrier', 'z', 'initialize']. This likely means the target basis is not universal or there are additional equivalence rules needed in the EquivalenceLibrary being used. For more details on this error see: https://qiskit.org/documentation/stubs/qiskit.transpiler.passes.BasisTranslator.html#translation_errors\"",
     "output_type": "error",
     "traceback": [
      "\u001b[1;31m---------------------------------------------------------------------------\u001b[0m",
      "\u001b[1;31mTranspilerError\u001b[0m                           Traceback (most recent call last)",
      "Cell \u001b[1;32mIn[46], line 4\u001b[0m\n\u001b[0;32m      2\u001b[0m backend\u001b[38;5;241m.\u001b[39mname \u001b[38;5;241m=\u001b[39m name\n\u001b[0;32m      3\u001b[0m vrtl_qasm_sim \u001b[38;5;241m=\u001b[39m VirtualQiskitBackend(backend)\n\u001b[1;32m----> 4\u001b[0m qc_qiskit_transpiled_CUSTUM\u001b[38;5;241m=\u001b[39m \u001b[43mtranspile\u001b[49m\u001b[43m(\u001b[49m\u001b[43mqc_qiskit\u001b[49m\u001b[43m,\u001b[49m\u001b[43mbackend\u001b[49m\u001b[38;5;241;43m=\u001b[39;49m\u001b[43mbackend\u001b[49m\u001b[43m)\u001b[49m \n",
      "File \u001b[1;32mc:\\Users\\dpolimen\\anaconda3\\envs\\venvqrisp\\lib\\site-packages\\qiskit\\compiler\\transpiler.py:419\u001b[0m, in \u001b[0;36mtranspile\u001b[1;34m(circuits, backend, basis_gates, inst_map, coupling_map, backend_properties, initial_layout, layout_method, routing_method, translation_method, scheduling_method, instruction_durations, dt, approximation_degree, timing_constraints, seed_transpiler, optimization_level, callback, output_name, unitary_synthesis_method, unitary_synthesis_plugin_config, target, hls_config, init_method, optimization_method, ignore_backend_supplied_default_methods)\u001b[0m\n\u001b[0;32m    391\u001b[0m         instruction_durations \u001b[38;5;241m=\u001b[39m _parse_instruction_durations(\n\u001b[0;32m    392\u001b[0m             backend, instruction_durations, dt, circuits[\u001b[38;5;241m0\u001b[39m]\n\u001b[0;32m    393\u001b[0m         )\n\u001b[0;32m    395\u001b[0m pm \u001b[38;5;241m=\u001b[39m generate_preset_pass_manager(\n\u001b[0;32m    396\u001b[0m     optimization_level,\n\u001b[0;32m    397\u001b[0m     backend\u001b[38;5;241m=\u001b[39mbackend,\n\u001b[1;32m   (...)\u001b[0m\n\u001b[0;32m    417\u001b[0m     _skip_target\u001b[38;5;241m=\u001b[39m_skip_target,\n\u001b[0;32m    418\u001b[0m )\n\u001b[1;32m--> 419\u001b[0m out_circuits \u001b[38;5;241m=\u001b[39m \u001b[43mpm\u001b[49m\u001b[38;5;241;43m.\u001b[39;49m\u001b[43mrun\u001b[49m\u001b[43m(\u001b[49m\u001b[43mcircuits\u001b[49m\u001b[43m,\u001b[49m\u001b[43m \u001b[49m\u001b[43mcallback\u001b[49m\u001b[38;5;241;43m=\u001b[39;49m\u001b[43mcallback\u001b[49m\u001b[43m)\u001b[49m\n\u001b[0;32m    420\u001b[0m \u001b[38;5;28;01mfor\u001b[39;00m name, circ \u001b[38;5;129;01min\u001b[39;00m \u001b[38;5;28mzip\u001b[39m(output_name, out_circuits):\n\u001b[0;32m    421\u001b[0m     circ\u001b[38;5;241m.\u001b[39mname \u001b[38;5;241m=\u001b[39m name\n",
      "File \u001b[1;32mc:\\Users\\dpolimen\\anaconda3\\envs\\venvqrisp\\lib\\site-packages\\qiskit\\transpiler\\passmanager.py:537\u001b[0m, in \u001b[0;36mStagedPassManager.run\u001b[1;34m(self, circuits, output_name, callback)\u001b[0m\n\u001b[0;32m    530\u001b[0m \u001b[38;5;28;01mdef\u001b[39;00m \u001b[38;5;21mrun\u001b[39m(\n\u001b[0;32m    531\u001b[0m     \u001b[38;5;28mself\u001b[39m,\n\u001b[0;32m    532\u001b[0m     circuits: _CircuitsT,\n\u001b[0;32m    533\u001b[0m     output_name: \u001b[38;5;28mstr\u001b[39m \u001b[38;5;241m|\u001b[39m \u001b[38;5;28;01mNone\u001b[39;00m \u001b[38;5;241m=\u001b[39m \u001b[38;5;28;01mNone\u001b[39;00m,\n\u001b[0;32m    534\u001b[0m     callback: Callable \u001b[38;5;241m|\u001b[39m \u001b[38;5;28;01mNone\u001b[39;00m \u001b[38;5;241m=\u001b[39m \u001b[38;5;28;01mNone\u001b[39;00m,\n\u001b[0;32m    535\u001b[0m ) \u001b[38;5;241m-\u001b[39m\u001b[38;5;241m>\u001b[39m _CircuitsT:\n\u001b[0;32m    536\u001b[0m     \u001b[38;5;28mself\u001b[39m\u001b[38;5;241m.\u001b[39m_update_passmanager()\n\u001b[1;32m--> 537\u001b[0m     \u001b[38;5;28;01mreturn\u001b[39;00m \u001b[38;5;28;43msuper\u001b[39;49m\u001b[43m(\u001b[49m\u001b[43m)\u001b[49m\u001b[38;5;241;43m.\u001b[39;49m\u001b[43mrun\u001b[49m\u001b[43m(\u001b[49m\u001b[43mcircuits\u001b[49m\u001b[43m,\u001b[49m\u001b[43m \u001b[49m\u001b[43moutput_name\u001b[49m\u001b[43m,\u001b[49m\u001b[43m \u001b[49m\u001b[43mcallback\u001b[49m\u001b[43m)\u001b[49m\n",
      "File \u001b[1;32mc:\\Users\\dpolimen\\anaconda3\\envs\\venvqrisp\\lib\\site-packages\\qiskit\\transpiler\\passmanager.py:233\u001b[0m, in \u001b[0;36mPassManager.run\u001b[1;34m(self, circuits, output_name, callback)\u001b[0m\n\u001b[0;32m    231\u001b[0m     \u001b[38;5;28;01mreturn\u001b[39;00m \u001b[38;5;28mself\u001b[39m\u001b[38;5;241m.\u001b[39m_run_single_circuit(circuits, output_name, callback)\n\u001b[0;32m    232\u001b[0m \u001b[38;5;28;01mif\u001b[39;00m \u001b[38;5;28mlen\u001b[39m(circuits) \u001b[38;5;241m==\u001b[39m \u001b[38;5;241m1\u001b[39m:\n\u001b[1;32m--> 233\u001b[0m     \u001b[38;5;28;01mreturn\u001b[39;00m [\u001b[38;5;28;43mself\u001b[39;49m\u001b[38;5;241;43m.\u001b[39;49m\u001b[43m_run_single_circuit\u001b[49m\u001b[43m(\u001b[49m\u001b[43mcircuits\u001b[49m\u001b[43m[\u001b[49m\u001b[38;5;241;43m0\u001b[39;49m\u001b[43m]\u001b[49m\u001b[43m,\u001b[49m\u001b[43m \u001b[49m\u001b[43moutput_name\u001b[49m\u001b[43m,\u001b[49m\u001b[43m \u001b[49m\u001b[43mcallback\u001b[49m\u001b[43m)\u001b[49m]\n\u001b[0;32m    234\u001b[0m \u001b[38;5;28;01mreturn\u001b[39;00m \u001b[38;5;28mself\u001b[39m\u001b[38;5;241m.\u001b[39m_run_several_circuits(circuits, output_name, callback)\n",
      "File \u001b[1;32mc:\\Users\\dpolimen\\anaconda3\\envs\\venvqrisp\\lib\\site-packages\\qiskit\\transpiler\\passmanager.py:292\u001b[0m, in \u001b[0;36mPassManager._run_single_circuit\u001b[1;34m(self, circuit, output_name, callback)\u001b[0m\n\u001b[0;32m    280\u001b[0m \u001b[38;5;250m\u001b[39m\u001b[38;5;124;03m\"\"\"Run all the passes on a ``circuit``.\u001b[39;00m\n\u001b[0;32m    281\u001b[0m \n\u001b[0;32m    282\u001b[0m \u001b[38;5;124;03mArgs:\u001b[39;00m\n\u001b[1;32m   (...)\u001b[0m\n\u001b[0;32m    289\u001b[0m \u001b[38;5;124;03m    The transformed circuit.\u001b[39;00m\n\u001b[0;32m    290\u001b[0m \u001b[38;5;124;03m\"\"\"\u001b[39;00m\n\u001b[0;32m    291\u001b[0m running_passmanager \u001b[38;5;241m=\u001b[39m \u001b[38;5;28mself\u001b[39m\u001b[38;5;241m.\u001b[39m_create_running_passmanager()\n\u001b[1;32m--> 292\u001b[0m result \u001b[38;5;241m=\u001b[39m \u001b[43mrunning_passmanager\u001b[49m\u001b[38;5;241;43m.\u001b[39;49m\u001b[43mrun\u001b[49m\u001b[43m(\u001b[49m\u001b[43mcircuit\u001b[49m\u001b[43m,\u001b[49m\u001b[43m \u001b[49m\u001b[43moutput_name\u001b[49m\u001b[38;5;241;43m=\u001b[39;49m\u001b[43moutput_name\u001b[49m\u001b[43m,\u001b[49m\u001b[43m \u001b[49m\u001b[43mcallback\u001b[49m\u001b[38;5;241;43m=\u001b[39;49m\u001b[43mcallback\u001b[49m\u001b[43m)\u001b[49m\n\u001b[0;32m    293\u001b[0m \u001b[38;5;28mself\u001b[39m\u001b[38;5;241m.\u001b[39mproperty_set \u001b[38;5;241m=\u001b[39m running_passmanager\u001b[38;5;241m.\u001b[39mproperty_set\n\u001b[0;32m    294\u001b[0m \u001b[38;5;28;01mreturn\u001b[39;00m result\n",
      "File \u001b[1;32mc:\\Users\\dpolimen\\anaconda3\\envs\\venvqrisp\\lib\\site-packages\\qiskit\\transpiler\\runningpassmanager.py:125\u001b[0m, in \u001b[0;36mRunningPassManager.run\u001b[1;34m(***failed resolving arguments***)\u001b[0m\n\u001b[0;32m    123\u001b[0m \u001b[38;5;28;01mfor\u001b[39;00m passset \u001b[38;5;129;01min\u001b[39;00m \u001b[38;5;28mself\u001b[39m\u001b[38;5;241m.\u001b[39mworking_list:\n\u001b[0;32m    124\u001b[0m     \u001b[38;5;28;01mfor\u001b[39;00m pass_ \u001b[38;5;129;01min\u001b[39;00m passset:\n\u001b[1;32m--> 125\u001b[0m         dag \u001b[38;5;241m=\u001b[39m \u001b[38;5;28;43mself\u001b[39;49m\u001b[38;5;241;43m.\u001b[39;49m\u001b[43m_do_pass\u001b[49m\u001b[43m(\u001b[49m\u001b[43mpass_\u001b[49m\u001b[43m,\u001b[49m\u001b[43m \u001b[49m\u001b[43mdag\u001b[49m\u001b[43m,\u001b[49m\u001b[43m \u001b[49m\u001b[43mpassset\u001b[49m\u001b[38;5;241;43m.\u001b[39;49m\u001b[43moptions\u001b[49m\u001b[43m)\u001b[49m\n\u001b[0;32m    127\u001b[0m circuit \u001b[38;5;241m=\u001b[39m dag_to_circuit(dag, copy_operations\u001b[38;5;241m=\u001b[39m\u001b[38;5;28;01mFalse\u001b[39;00m)\n\u001b[0;32m    128\u001b[0m \u001b[38;5;28;01mif\u001b[39;00m output_name:\n",
      "File \u001b[1;32mc:\\Users\\dpolimen\\anaconda3\\envs\\venvqrisp\\lib\\site-packages\\qiskit\\transpiler\\runningpassmanager.py:173\u001b[0m, in \u001b[0;36mRunningPassManager._do_pass\u001b[1;34m(self, pass_, dag, options)\u001b[0m\n\u001b[0;32m    171\u001b[0m \u001b[38;5;66;03m# Run the pass itself, if not already run\u001b[39;00m\n\u001b[0;32m    172\u001b[0m \u001b[38;5;28;01mif\u001b[39;00m pass_ \u001b[38;5;129;01mnot\u001b[39;00m \u001b[38;5;129;01min\u001b[39;00m \u001b[38;5;28mself\u001b[39m\u001b[38;5;241m.\u001b[39mvalid_passes:\n\u001b[1;32m--> 173\u001b[0m     dag \u001b[38;5;241m=\u001b[39m \u001b[38;5;28;43mself\u001b[39;49m\u001b[38;5;241;43m.\u001b[39;49m\u001b[43m_run_this_pass\u001b[49m\u001b[43m(\u001b[49m\u001b[43mpass_\u001b[49m\u001b[43m,\u001b[49m\u001b[43m \u001b[49m\u001b[43mdag\u001b[49m\u001b[43m)\u001b[49m\n\u001b[0;32m    175\u001b[0m     \u001b[38;5;66;03m# update the valid_passes property\u001b[39;00m\n\u001b[0;32m    176\u001b[0m     \u001b[38;5;28mself\u001b[39m\u001b[38;5;241m.\u001b[39m_update_valid_passes(pass_)\n",
      "File \u001b[1;32mc:\\Users\\dpolimen\\anaconda3\\envs\\venvqrisp\\lib\\site-packages\\qiskit\\transpiler\\runningpassmanager.py:202\u001b[0m, in \u001b[0;36mRunningPassManager._run_this_pass\u001b[1;34m(self, pass_, dag)\u001b[0m\n\u001b[0;32m    199\u001b[0m \u001b[38;5;28;01mif\u001b[39;00m pass_\u001b[38;5;241m.\u001b[39mis_transformation_pass:\n\u001b[0;32m    200\u001b[0m     \u001b[38;5;66;03m# Measure time if we have a callback or logging set\u001b[39;00m\n\u001b[0;32m    201\u001b[0m     start_time \u001b[38;5;241m=\u001b[39m time()\n\u001b[1;32m--> 202\u001b[0m     new_dag \u001b[38;5;241m=\u001b[39m \u001b[43mpass_\u001b[49m\u001b[38;5;241;43m.\u001b[39;49m\u001b[43mrun\u001b[49m\u001b[43m(\u001b[49m\u001b[43mdag\u001b[49m\u001b[43m)\u001b[49m\n\u001b[0;32m    203\u001b[0m     end_time \u001b[38;5;241m=\u001b[39m time()\n\u001b[0;32m    204\u001b[0m     run_time \u001b[38;5;241m=\u001b[39m end_time \u001b[38;5;241m-\u001b[39m start_time\n",
      "File \u001b[1;32mc:\\Users\\dpolimen\\anaconda3\\envs\\venvqrisp\\lib\\site-packages\\qiskit\\transpiler\\passes\\basis\\basis_translator.py:207\u001b[0m, in \u001b[0;36mBasisTranslator.run\u001b[1;34m(self, dag)\u001b[0m\n\u001b[0;32m    202\u001b[0m logger\u001b[38;5;241m.\u001b[39minfo(\n\u001b[0;32m    203\u001b[0m     \u001b[38;5;124m\"\u001b[39m\u001b[38;5;124mBasis translation path search completed in \u001b[39m\u001b[38;5;132;01m%.3f\u001b[39;00m\u001b[38;5;124ms.\u001b[39m\u001b[38;5;124m\"\u001b[39m, search_end_time \u001b[38;5;241m-\u001b[39m search_start_time\n\u001b[0;32m    204\u001b[0m )\n\u001b[0;32m    206\u001b[0m \u001b[38;5;28;01mif\u001b[39;00m basis_transforms \u001b[38;5;129;01mis\u001b[39;00m \u001b[38;5;28;01mNone\u001b[39;00m:\n\u001b[1;32m--> 207\u001b[0m     \u001b[38;5;28;01mraise\u001b[39;00m TranspilerError(\n\u001b[0;32m    208\u001b[0m         \u001b[38;5;124m\"\u001b[39m\u001b[38;5;124mUnable to translate the operations in the circuit: \u001b[39m\u001b[38;5;124m\"\u001b[39m\n\u001b[0;32m    209\u001b[0m         \u001b[38;5;124mf\u001b[39m\u001b[38;5;124m\"\u001b[39m\u001b[38;5;132;01m{\u001b[39;00m[x[\u001b[38;5;241m0\u001b[39m]\u001b[38;5;250m \u001b[39m\u001b[38;5;28;01mfor\u001b[39;00m\u001b[38;5;250m \u001b[39mx\u001b[38;5;250m \u001b[39m\u001b[38;5;129;01min\u001b[39;00m\u001b[38;5;250m \u001b[39msource_basis]\u001b[38;5;132;01m}\u001b[39;00m\u001b[38;5;124m to the backend\u001b[39m\u001b[38;5;124m'\u001b[39m\u001b[38;5;124ms (or manually specified) target \u001b[39m\u001b[38;5;124m\"\u001b[39m\n\u001b[0;32m    210\u001b[0m         \u001b[38;5;124mf\u001b[39m\u001b[38;5;124m\"\u001b[39m\u001b[38;5;124mbasis: \u001b[39m\u001b[38;5;132;01m{\u001b[39;00m\u001b[38;5;28mlist\u001b[39m(target_basis)\u001b[38;5;132;01m}\u001b[39;00m\u001b[38;5;124m. This likely means the target basis is not universal \u001b[39m\u001b[38;5;124m\"\u001b[39m\n\u001b[0;32m    211\u001b[0m         \u001b[38;5;124m\"\u001b[39m\u001b[38;5;124mor there are additional equivalence rules needed in the EquivalenceLibrary being \u001b[39m\u001b[38;5;124m\"\u001b[39m\n\u001b[0;32m    212\u001b[0m         \u001b[38;5;124m\"\u001b[39m\u001b[38;5;124mused. For more details on this error see: \u001b[39m\u001b[38;5;124m\"\u001b[39m\n\u001b[0;32m    213\u001b[0m         \u001b[38;5;124m\"\u001b[39m\u001b[38;5;124mhttps://qiskit.org/documentation/stubs/qiskit.transpiler.passes.BasisTranslator.\u001b[39m\u001b[38;5;124m\"\u001b[39m\n\u001b[0;32m    214\u001b[0m         \u001b[38;5;124m\"\u001b[39m\u001b[38;5;124mhtml#translation_errors\u001b[39m\u001b[38;5;124m\"\u001b[39m\n\u001b[0;32m    215\u001b[0m     )\n\u001b[0;32m    217\u001b[0m \u001b[38;5;66;03m# Compose found path into a set of instruction substitution rules.\u001b[39;00m\n\u001b[0;32m    219\u001b[0m compose_start_time \u001b[38;5;241m=\u001b[39m time\u001b[38;5;241m.\u001b[39mtime()\n",
      "\u001b[1;31mTranspilerError\u001b[0m: \"Unable to translate the operations in the circuit: ['p', 'cx', 'cswap', 'initialize', 'h', 'x', 'ry', 'swap'] to the backend's (or manually specified) target basis: ['delay', 'ccx', 'measure', 't', 'h', 'snapshot', 'measure_x', 'tdg', 'x', 'cx', 'barrier', 'z', 'initialize']. This likely means the target basis is not universal or there are additional equivalence rules needed in the EquivalenceLibrary being used. For more details on this error see: https://qiskit.org/documentation/stubs/qiskit.transpiler.passes.BasisTranslator.html#translation_errors\""
     ]
    }
   ],
   "source": [
    "backend = ProcessorSimulator(LogicalCatProcessor(distance=distance, n_qubits=n_qubits, kappa_1=kappa_1, kappa_2=kappa_2, average_nb_photons = 7))\n",
    "backend.name = name\n",
    "vrtl_qasm_sim = VirtualQiskitBackend(backend)\n",
    "qc_qiskit_transpiled_CUSTUM= transpile(qc_qiskit,backend=backend) "
   ]
  },
  {
   "cell_type": "code",
   "execution_count": 10,
   "id": "6ce41edf",
   "metadata": {},
   "outputs": [
    {
     "data": {
      "text/plain": [
       "<QuantumFloat 'qpe_res'>"
      ]
     },
     "execution_count": 10,
     "metadata": {},
     "output_type": "execute_result"
    }
   ],
   "source": [
    "qg = QuantumModulus(N)\n",
    "qg[:] = 1\n",
    "qpe_res = QuantumFloat(2*qg.size + 1, exponent = -(2*qg.size + 1))\n",
    "h(qpe_res)\n",
    "x=a\n",
    "for i in range(len(qpe_res)):\n",
    "    with control(qpe_res[i]):\n",
    "        qg *= x\n",
    "        x = (x*x)%N\n",
    "QFT(qpe_res, inv = True)"
   ]
  },
  {
   "cell_type": "code",
   "execution_count": 11,
   "id": "4d3d0507",
   "metadata": {},
   "outputs": [
    {
     "name": "stdout",
     "output_type": "stream",
     "text": [
      "9\n",
      "4\n",
      "882\n"
     ]
    },
    {
     "ename": "TranspilerError",
     "evalue": "'Number of qubits (37) in circuit-330 is greater than maximum (15) in the coupling_map'",
     "output_type": "error",
     "traceback": [
      "\u001b[1;31m---------------------------------------------------------------------------\u001b[0m",
      "\u001b[1;31mTranspilerError\u001b[0m                           Traceback (most recent call last)",
      "Cell \u001b[1;32mIn[11], line 7\u001b[0m\n\u001b[0;32m      5\u001b[0m qc_qiskit \u001b[38;5;241m=\u001b[39m qpe_res\u001b[38;5;241m.\u001b[39mqs\u001b[38;5;241m.\u001b[39mto_qiskit()\n\u001b[0;32m      6\u001b[0m \u001b[38;5;28;01mfrom\u001b[39;00m \u001b[38;5;21;01mqiskit\u001b[39;00m \u001b[38;5;28;01mimport\u001b[39;00m transpile\n\u001b[1;32m----> 7\u001b[0m qc_qiskit_transpiled \u001b[38;5;241m=\u001b[39m \u001b[43mtranspile\u001b[49m\u001b[43m(\u001b[49m\u001b[43mqc_qiskit\u001b[49m\u001b[43m,\u001b[49m\u001b[43mbackend\u001b[49m\u001b[38;5;241;43m=\u001b[39;49m\u001b[43mbackend\u001b[49m\u001b[43m)\u001b[49m \n\u001b[0;32m      8\u001b[0m qc_qiskit_transpiled\u001b[38;5;241m.\u001b[39mdepth()\n\u001b[0;32m      9\u001b[0m q_volume \u001b[38;5;241m=\u001b[39m qc_qiskit_transpiled\u001b[38;5;241m.\u001b[39mdepth() \u001b[38;5;241m*\u001b[39m (qpe_res\u001b[38;5;241m.\u001b[39msize \u001b[38;5;241m+\u001b[39m qg\u001b[38;5;241m.\u001b[39msize)  \u001b[38;5;66;03m#width * depth of the circuit\u001b[39;00m\n",
      "File \u001b[1;32mc:\\Users\\dpolimen\\anaconda3\\envs\\venvqrisp\\lib\\site-packages\\qiskit\\compiler\\transpiler.py:335\u001b[0m, in \u001b[0;36mtranspile\u001b[1;34m(circuits, backend, basis_gates, inst_map, coupling_map, backend_properties, initial_layout, layout_method, routing_method, translation_method, scheduling_method, instruction_durations, dt, approximation_degree, timing_constraints, seed_transpiler, optimization_level, callback, output_name, unitary_synthesis_method, unitary_synthesis_plugin_config, target, hls_config, init_method, optimization_method, ignore_backend_supplied_default_methods)\u001b[0m\n\u001b[0;32m    332\u001b[0m output_name \u001b[38;5;241m=\u001b[39m _parse_output_name(output_name, circuits)\n\u001b[0;32m    333\u001b[0m inst_map \u001b[38;5;241m=\u001b[39m _parse_inst_map(inst_map, backend)\n\u001b[1;32m--> 335\u001b[0m \u001b[43m_check_circuits_coupling_map\u001b[49m\u001b[43m(\u001b[49m\u001b[43mcircuits\u001b[49m\u001b[43m,\u001b[49m\u001b[43m \u001b[49m\u001b[43mcoupling_map\u001b[49m\u001b[43m,\u001b[49m\u001b[43m \u001b[49m\u001b[43mbackend\u001b[49m\u001b[43m)\u001b[49m\n\u001b[0;32m    337\u001b[0m timing_constraints \u001b[38;5;241m=\u001b[39m _parse_timing_constraints(backend, timing_constraints)\n\u001b[0;32m    339\u001b[0m \u001b[38;5;28;01mif\u001b[39;00m _given_inst_map \u001b[38;5;129;01mand\u001b[39;00m inst_map\u001b[38;5;241m.\u001b[39mhas_custom_gate() \u001b[38;5;129;01mand\u001b[39;00m target \u001b[38;5;129;01mis\u001b[39;00m \u001b[38;5;129;01mnot\u001b[39;00m \u001b[38;5;28;01mNone\u001b[39;00m:\n\u001b[0;32m    340\u001b[0m     \u001b[38;5;66;03m# Do not mutate backend target\u001b[39;00m\n",
      "File \u001b[1;32mc:\\Users\\dpolimen\\anaconda3\\envs\\venvqrisp\\lib\\site-packages\\qiskit\\compiler\\transpiler.py:449\u001b[0m, in \u001b[0;36m_check_circuits_coupling_map\u001b[1;34m(circuits, cmap, backend)\u001b[0m\n\u001b[0;32m    447\u001b[0m num_qubits \u001b[38;5;241m=\u001b[39m \u001b[38;5;28mlen\u001b[39m(circuit\u001b[38;5;241m.\u001b[39mqubits)\n\u001b[0;32m    448\u001b[0m \u001b[38;5;28;01mif\u001b[39;00m max_qubits \u001b[38;5;129;01mis\u001b[39;00m \u001b[38;5;129;01mnot\u001b[39;00m \u001b[38;5;28;01mNone\u001b[39;00m \u001b[38;5;129;01mand\u001b[39;00m (num_qubits \u001b[38;5;241m>\u001b[39m max_qubits):\n\u001b[1;32m--> 449\u001b[0m     \u001b[38;5;28;01mraise\u001b[39;00m TranspilerError(\n\u001b[0;32m    450\u001b[0m         \u001b[38;5;124mf\u001b[39m\u001b[38;5;124m\"\u001b[39m\u001b[38;5;124mNumber of qubits (\u001b[39m\u001b[38;5;132;01m{\u001b[39;00mnum_qubits\u001b[38;5;132;01m}\u001b[39;00m\u001b[38;5;124m) in \u001b[39m\u001b[38;5;132;01m{\u001b[39;00mcircuit\u001b[38;5;241m.\u001b[39mname\u001b[38;5;132;01m}\u001b[39;00m\u001b[38;5;124m \u001b[39m\u001b[38;5;124m\"\u001b[39m\n\u001b[0;32m    451\u001b[0m         \u001b[38;5;124mf\u001b[39m\u001b[38;5;124m\"\u001b[39m\u001b[38;5;124mis greater than maximum (\u001b[39m\u001b[38;5;132;01m{\u001b[39;00mmax_qubits\u001b[38;5;132;01m}\u001b[39;00m\u001b[38;5;124m) in the coupling_map\u001b[39m\u001b[38;5;124m\"\u001b[39m\n\u001b[0;32m    452\u001b[0m     )\n",
      "\u001b[1;31mTranspilerError\u001b[0m: 'Number of qubits (37) in circuit-330 is greater than maximum (15) in the coupling_map'"
     ]
    }
   ],
   "source": [
    "print(qpe_res.size)\n",
    "print(qg.size)\n",
    "print(qg.qs.depth())\n",
    "\n",
    "qc_qiskit = qpe_res.qs.to_qiskit()\n",
    "from qiskit import transpile\n",
    "qc_qiskit_transpiled = transpile(qc_qiskit,backend=backend) \n",
    "qc_qiskit_transpiled.depth()\n",
    "q_volume = qc_qiskit_transpiled.depth() * (qpe_res.size + qg.size)  #width * depth of the circuit\n",
    "print(q_volume)\n"
   ]
  },
  {
   "cell_type": "code",
   "execution_count": null,
   "id": "2f24de27",
   "metadata": {},
   "outputs": [],
   "source": []
  }
 ],
 "metadata": {
  "kernelspec": {
   "display_name": "Python 3 (ipykernel)",
   "language": "python",
   "name": "python3"
  },
  "language_info": {
   "codemirror_mode": {
    "name": "ipython",
    "version": 3
   },
   "file_extension": ".py",
   "mimetype": "text/x-python",
   "name": "python",
   "nbconvert_exporter": "python",
   "pygments_lexer": "ipython3",
   "version": "3.10.13"
  }
 },
 "nbformat": 4,
 "nbformat_minor": 5
}
