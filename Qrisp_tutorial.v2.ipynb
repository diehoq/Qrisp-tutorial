{
 "cells": [
  {
   "cell_type": "markdown",
   "id": "ebe8e678",
   "metadata": {},
   "source": [
    "# Implementing Shor's Algorithm using the Qrisp framework on Cat Qubits\n",
    "This tutorial will walk you through the implementation of the famous Shor's algorithm for prime factoring using Qrisp on the Alice&Bob's Qiskit Provider. \n",
    "\n",
    "\n",
    "### Why Shor's prime factoring algorithm?\n",
    "A fair question is to ask why it is of any interest to implement Shor's algorithm and run it with a noise model. It all boils down to the quantum advantage that is provided by the quantum algorithm: the current state of the art classical algorithm for prime factoring is the [general number field sieve](https://en.wikipedia.org/wiki/General_number_field_sieve) (GNFS) which, under some assumptions, achieves the prime factoring of a integer in super-polynomial but sub-exponential time. On the contrary, Shor's algorithm promises a polynomial time to achieve the same task. Equivalently said, Shor's algorithm assures an superpolynomial speedup when compared with a classical algorithm. \n",
    "Published in 1994 by Peter Shor, Shor's algorithm shook the field of theoretical computer science, giving a glance of how powerful quantum computation could be. The implications of successfully running the Shor's algorithm on an actual machine are several, but let's just cite the most hype-generating one: the security of the popular RSA cryptosystem is based on the assumption that prime factorization is computationally hard. Well, that's not true anymore with Shor's algorithm.\n",
    "\n",
    "### Why Cat Qubits?\n",
    "However, we are far from running the algorithm efficiently on a quantum computer, since qubits and operations between them are noisy; at the moment, the information stored in the system is completaly lost after few operations. People in the field are frenatically trying to solve this problem by designing new and more efficient [quantum error correction codes](https://en.wikipedia.org/wiki/Quantum_error_correction) that are supposed to detect and correct errors. In the quantum realm, the errors on a elementary piece of information are bidimensional: you can have bit-flips ( $|0\\rangle \\leftrightarrow |1\\rangle$ ) and phase-flips ( $|+\\rangle \\leftrightarrow |-\\rangle$ ). Luckily, there exist a technology that is able to take care of one source of error, by exponentially subpressing the bit-flip rate, virtually allowing to only deal with the other type of error: the cat qubits architecture. We have a whole [series of tutorial](https://github.com/Alice-Bob-SW/emulation-examples/blob/main/0%20-%20An%20introduction%20to%20cat%20qubits.ipynb) and [suggested readings]() if you want to know more about it.\n",
    "\n",
    "Shor's algorithm requires considerably low error rates to give proper results - we will talk about numbers in a following section, when we will do the resource estimation of the algorithm - and therefore error correction is needed. So we tought - wait a second, why don't we use cat qubits then, which are the qubits of the future. And that's what we are going to do.\n",
    "\n",
    "### Why Qrisp?\n",
    "Qrisp is a high-level programming language for creating and compiling quantum algorithms which features numerous characteristics to smooth the workflow when writing and executing a quantum algorithm. \n",
    "If you want to get familiar with the Qrisp framework, have a look at the dedicated [series of tutorials](https://qrisp.eu/general/tutorial/index.html) available on Qrisp's website.\n",
    "\n",
    "Qrisp provides full compatibility with Qiskit's framework and it is possible to run Qrisp code directly on the Qiskit's backend making use of the `VirtualQiskitBackend`. This allows us to intantiate the emulator using the Alice & Bob Qiskit Provider as backend and run the code on a cat qubits architechture.\n",
    "\n",
    "\n"
   ]
  },
  {
   "cell_type": "code",
   "execution_count": 1,
   "id": "3a32e67d-f628-4f47-a945-b44a342cd6ac",
   "metadata": {},
   "outputs": [],
   "source": [
    "from qrisp import *\n",
    "from qrisp.interface import VirtualQiskitBackend\n",
    "from qiskit_alice_bob_provider.local.provider import AliceBobLocalProvider\n",
    "\n",
    "provider = AliceBobLocalProvider()\n",
    "backend = provider.get_backend('EMU:40Q:LOGICAL_TARGET')\n",
    "vrtl_qasm_sim = VirtualQiskitBackend(backend)"
   ]
  },
  {
   "cell_type": "code",
   "execution_count": 2,
   "id": "963c9533",
   "metadata": {},
   "outputs": [],
   "source": [
    "import math\n",
    "import random\n",
    "import numpy as np"
   ]
  },
  {
   "cell_type": "markdown",
   "id": "c38e52c5",
   "metadata": {},
   "source": [
    "We would like to perform the trivial task of prime factoring the number 15. We all know that 5x3 = 15, but sometimes is better to double-check - or triple-check, as in this case. \n",
    "\n",
    "We want to compare the performance of the classical algorithm with the Shor's algorithm"
   ]
  },
  {
   "cell_type": "code",
   "execution_count": 3,
   "id": "5c9f3942",
   "metadata": {},
   "outputs": [],
   "source": [
    "def is_prime(n):\n",
    "    if n <= 1:\n",
    "        return False\n",
    "    elif n <= 3:\n",
    "        return True\n",
    "    elif n % 2 == 0 or n % 3 == 0:\n",
    "        return False\n",
    "    i = 5\n",
    "    while i * i <= n:\n",
    "        if n % i == 0 or n % (i + 2) == 0:\n",
    "            return False\n",
    "        i += 6\n",
    "    return True\n",
    "\n",
    "def find_period_classical(g,N):\n",
    "    e = 1\n",
    "    while(pow(g, e, N) != 1):\n",
    "        e = e+1\n",
    "    return e\n",
    "\n",
    "def classical_Shor(N):\n",
    "    if N % 2 == 0:\n",
    "        return (2, N // 2)\n",
    "    if (is_prime(N)):\n",
    "        return (1,N)\n",
    "    \n",
    "    while True:\n",
    "        a = random.randint(2, N - 1)\n",
    "        if math.gcd(a, N) != 1:\n",
    "            return math.gcd(a, N), N // math.gcd(a, N)\n",
    "        \n",
    "        r = find_period_classical(a, N)\n",
    "        \n",
    "        if r % 2 == 0:\n",
    "            x = pow(a, r // 2, N)\n",
    "            p = math.gcd(x - 1, N)\n",
    "            q = math.gcd(x + 1, N)\n",
    "            if p != 1 and p != N:\n",
    "                return (p, N // p)\n",
    "            if q != 1 and q != N:\n",
    "                return (q, N // q)"
   ]
  },
  {
   "cell_type": "code",
   "execution_count": 4,
   "id": "e4a50a51",
   "metadata": {},
   "outputs": [
    {
     "name": "stdout",
     "output_type": "stream",
     "text": [
      "Test passed!\n"
     ]
    }
   ],
   "source": [
    "N=10000\n",
    "check_list = list()\n",
    "for i in range(2,N):\n",
    "    (p,q) = classical_Shor(i)\n",
    "    check = (p*q == i)\n",
    "    if(check==False):\n",
    "        print(i, (p,q))\n",
    "else:\n",
    "    print('Test passed!')"
   ]
  },
  {
   "cell_type": "code",
   "execution_count": 5,
   "id": "9662c206-a627-4a79-b3e8-0abe336f9140",
   "metadata": {},
   "outputs": [],
   "source": [
    "from sympy import continued_fraction_convergents, continued_fraction_iterator, Rational\n",
    "\n",
    "def get_r_candidates(approx):\n",
    "    rationals = continued_fraction_convergents(continued_fraction_iterator(Rational(approx)))\n",
    "    return [rat.q for rat in rationals]"
   ]
  },
  {
   "cell_type": "code",
   "execution_count": 6,
   "id": "223cabc4-2905-4edb-93b1-33457a85d4ba",
   "metadata": {},
   "outputs": [],
   "source": [
    "def find_order(a, N):\n",
    "    qg = QuantumModulus(N)\n",
    "    qg[:] = 1\n",
    "    qpe_res = QuantumFloat(2*qg.size + 1, exponent = -(2*qg.size + 1))\n",
    "    h(qpe_res)\n",
    "    x=a\n",
    "    for i in range(len(qpe_res)):\n",
    "        with control(qpe_res[i]):\n",
    "            qg *= x\n",
    "            x = (x*x)%N\n",
    "    QFT(qpe_res, inv = True)\n",
    "    return qpe_res.get_measurement(backend=vrtl_qasm_sim)"
   ]
  },
  {
   "cell_type": "code",
   "execution_count": 7,
   "id": "7ae6d0cd",
   "metadata": {},
   "outputs": [],
   "source": [
    "def quantum_shor(a,N):\n",
    "    meas_res = find_order(a,N)\n",
    "    r_candidates = sum([get_r_candidates(approx) for approx in meas_res.keys()], [])\n",
    "    for cand in r_candidates:\n",
    "        if (a**cand)%N == 1:\n",
    "            r = cand\n",
    "            break\n",
    "    else:\n",
    "        raise Exception(\"Please sample again\")\n",
    "    if r % 2:\n",
    "        raise Exception(\"Please choose another a\")\n",
    "    p = np.gcd(a**(r//2)+1, N)\n",
    "    q = int(N/p)\n",
    "    if(p>q):\n",
    "        return(q,p)\n",
    "    return(p,q)\n"
   ]
  },
  {
   "cell_type": "code",
   "execution_count": 8,
   "metadata": {},
   "outputs": [
    {
     "data": {
      "text/plain": [
       "(3, 5)"
      ]
     },
     "execution_count": 8,
     "metadata": {},
     "output_type": "execute_result"
    }
   ],
   "source": [
    "N = 15\n",
    "a = 2\n",
    "quantum_shor(a,N)"
   ]
  },
  {
   "cell_type": "markdown",
   "id": "d2e25a83-be47-41e6-984a-182053e7c705",
   "metadata": {},
   "source": [
    "The remarkable aspect of the Qrips' framework is the compactness and simplicity of implementing a fairly complex algorithm, such as Shor's, in a few lines of code as well as the relatively high level of abstraction with respect to gate-level. This task is much more complex to achieve in Qiskit, for example. You can find either a [specific tutorial to factor 15 with an hard-coded circuit](https://github.com/qiskit-community/qiskit-community-tutorials/blob/master/algorithms/shor_algorithm.ipynb); either a [general implementation](https://github.com/Qiskit/qiskit/blob/9c8eb06984c91156eac078f3d2d73b4cf68370b4/qiskit/algorithms/factorizers/shor.py), which has become deprecated. \n",
    "\n",
    "In both cases, however, you are forced to operate at gate-level and deal with Qiskit's circuit management technicalities."
   ]
  },
  {
   "cell_type": "markdown",
   "id": "2b098bd5",
   "metadata": {},
   "source": [
    "### But why is it so slow?\n",
    "Suppose for the moment to run a noiseless classical simulation of a quantum algorithm. [Gottesman-Knill theorem](https://en.wikipedia.org/wiki/Gottesman%E2%80%93Knill_theorem) states that circuits composed of Clifford gates can be perfectly simulated in polynomial time on a probabilistic classical computer. Shor's algorithm, however, uses non-Clifford gates and as a result the simulation is much longer than in the classical case, even for small instances.\n",
    "On top of that, when adding a noise model, the number of internal operations performed by Qiskit's backend increases noticeably the computational cost, partially inficiating sparsity assumption of matrix operations and storage.\n",
    "\n",
    "\n",
    "Anyway, Shor's prime factoring algoritms remains to this day the simplest algorithm to provide an exponential speedup and actually observing it a work could give great insight into the realm of quantum computation."
   ]
  },
  {
   "cell_type": "code",
   "execution_count": 9,
   "id": "f648f15c",
   "metadata": {},
   "outputs": [
    {
     "data": {
      "text/plain": [
       "<QuantumFloat 'qpe_res'>"
      ]
     },
     "execution_count": 9,
     "metadata": {},
     "output_type": "execute_result"
    }
   ],
   "source": [
    "qg = QuantumModulus(N)\n",
    "qg[:] = 1\n",
    "qpe_res = QuantumFloat(2*qg.size + 1, exponent = -(2*qg.size + 1))\n",
    "h(qpe_res)\n",
    "x=a\n",
    "for i in range(len(qpe_res)):\n",
    "    with control(qpe_res[i]):\n",
    "        qg *= x\n",
    "        x = (x*x)%N\n",
    "QFT(qpe_res, inv = True)"
   ]
  },
  {
   "cell_type": "code",
   "execution_count": 10,
   "id": "85f6c66e",
   "metadata": {},
   "outputs": [
    {
     "name": "stdout",
     "output_type": "stream",
     "text": [
      "9\n",
      "4\n",
      "882\n"
     ]
    }
   ],
   "source": [
    "print(qpe_res.size)\n",
    "print(qg.size)\n",
    "print(qg.qs.depth())\n"
   ]
  },
  {
   "cell_type": "code",
   "execution_count": 11,
   "id": "614330e4",
   "metadata": {},
   "outputs": [],
   "source": [
    "qc_qiskit = qpe_res.qs.to_qiskit()"
   ]
  },
  {
   "cell_type": "code",
   "execution_count": 12,
   "id": "db9a8f3a",
   "metadata": {},
   "outputs": [],
   "source": [
    "from qiskit import transpile\n",
    "qc_qiskit_transpiled = transpile(qc_qiskit,backend=backend) "
   ]
  },
  {
   "cell_type": "code",
   "execution_count": 13,
   "id": "f55a6102",
   "metadata": {},
   "outputs": [
    {
     "data": {
      "text/plain": [
       "40111"
      ]
     },
     "execution_count": 13,
     "metadata": {},
     "output_type": "execute_result"
    }
   ],
   "source": [
    "qc_qiskit_transpiled.depth()"
   ]
  },
  {
   "cell_type": "code",
   "execution_count": 14,
   "id": "2779ccba",
   "metadata": {},
   "outputs": [
    {
     "name": "stdout",
     "output_type": "stream",
     "text": [
      "521443\n"
     ]
    }
   ],
   "source": [
    "q_volume = qc_qiskit_transpiled.depth() * (qpe_res.size + qg.size)  #width * depth of the circuit\n",
    "print(q_volume)"
   ]
  },
  {
   "cell_type": "code",
   "execution_count": 48,
   "id": "ac6af28a",
   "metadata": {},
   "outputs": [],
   "source": [
    "# backend = provider.get_backend('EMU:15Q:LOGICAL_EARLY')\n",
    "# N = 15\n",
    "# a = 2\n",
    "# quantum_shor(a,N)"
   ]
  },
  {
   "cell_type": "code",
   "execution_count": null,
   "id": "96d8ca0a",
   "metadata": {},
   "outputs": [],
   "source": [
    "# for _ in range(10):\n",
    "#     print(quantum_shor(a,N))"
   ]
  },
  {
   "cell_type": "code",
   "execution_count": null,
   "id": "062746e8",
   "metadata": {},
   "outputs": [],
   "source": [
    "## EMU:15Q:LOGICAL_EARLY\n",
    "\n",
    "- 1 ≤ nb_shots (int) ≤ 10⁷ . Default 1000\n",
    "- 4.0 ≤ average_nb_photons (float) ≤ 10⁵. Default 7.0\n",
    "- 10.0 < kappa_1 (float) ≤ 10⁵. Default 100.0\n",
    "- 100.0 ≤ kappa_2 (float) ≤ 10⁹. Default 10⁵\n",
    "- 10⁻⁷ ≤ kappa_1 / kappa_2 ≤ 10⁻¹\n",
    "- 3 ≤ distance (int) ≤ 300. Default 13. Distance must be an odd number.\n",
    "\n",
    "## EMU:40Q:LOGICAL_TARGET\n",
    "\n",
    "- 1 ≤ nb_shots (int) ≤ 10⁷ . Default 1000\n",
    "- 4.0 ≤ average_nb_photons (float) ≤ 10⁵. Default 19.0\n",
    "- 10.0 < kappa_1 (float) ≤ 10⁵. Default 100.0\n",
    "- 100.0 ≤ kappa_2 (float) ≤ 10⁹. Default 10⁷\n",
    "- 10⁻⁷ ≤ kappa_1 / kappa_2 ≤ 10⁻¹\n",
    "- 3 ≤ distance (int) ≤ 300. Default 15. Distance must be an odd number."
   ]
  },
  {
   "cell_type": "code",
   "execution_count": 18,
   "id": "9d438274",
   "metadata": {},
   "outputs": [],
   "source": [
    "from qiskit_alice_bob_provider.processor.logical_cat import _cx_error, _1q_logical_error\n",
    "\n",
    "from qiskit_alice_bob_provider.local.backend import ProcessorSimulator\n",
    "from qiskit_alice_bob_provider.processor.logical_cat import LogicalCatProcessor"
   ]
  },
  {
   "cell_type": "code",
   "execution_count": 16,
   "id": "4001dec5",
   "metadata": {},
   "outputs": [
    {
     "name": "stdout",
     "output_type": "stream",
     "text": [
      "{'X': 2.494573711431247e-06, 'Y': 2.494573711431247e-06, 'Z': 0.49999750542628857}\n",
      "{'XI': 1.247280632817622e-06, 'YI': 1.247280632817622e-06, 'ZI': 0.2499975054325115, 'IX': 1.247280632817622e-06, 'IY': 1.247280632817622e-06, 'IZ': 0.2499975054325115, 'XX': 6.222898001763867e-12, 'YX': 6.222898001763867e-12, 'ZX': 1.2472806328176218e-06, 'XY': 6.222898001763867e-12, 'YY': 6.222898001763867e-12, 'ZY': 1.2472806328176218e-06, 'XZ': 1.2472806328176218e-06, 'YZ': 1.2472806328176218e-06, 'ZZ': 0.24999750543251148}\n"
     ]
    }
   ],
   "source": [
    "distance = 3\n",
    "n_qubits = 15\n",
    "kappa_1 = 100\n",
    "kappa_2= 1000\n",
    "average_nb_photons=7\n",
    "name='EMU:15Q:CUSTUM'\n",
    "\n",
    "backend = ProcessorSimulator(LogicalCatProcessor(distance=distance, n_qubits=n_qubits, kappa_1=kappa_1, kappa_2=kappa_2, average_nb_photons = 7))\n",
    "\n",
    "print(_1q_logical_error(d=distance, nbar=average_nb_photons, k1=kappa_1, k2=kappa_2))\n",
    "print(_cx_error(d=distance, nbar=average_nb_photons, k1=kappa_1, k2=kappa_2))"
   ]
  },
  {
   "cell_type": "code",
   "execution_count": 17,
   "id": "b6aa9993",
   "metadata": {},
   "outputs": [
    {
     "data": {
      "text/plain": [
       "(3, 5)"
      ]
     },
     "execution_count": 17,
     "metadata": {},
     "output_type": "execute_result"
    }
   ],
   "source": [
    "quantum_shor(a,N)"
   ]
  },
  {
   "cell_type": "code",
   "execution_count": null,
   "id": "f7d0cd78",
   "metadata": {},
   "outputs": [],
   "source": [
    "def error_rate():"
   ]
  }
 ],
 "metadata": {
  "kernelspec": {
   "display_name": "Python 3 (ipykernel)",
   "language": "python",
   "name": "python3"
  },
  "language_info": {
   "codemirror_mode": {
    "name": "ipython",
    "version": 3
   },
   "file_extension": ".py",
   "mimetype": "text/x-python",
   "name": "python",
   "nbconvert_exporter": "python",
   "pygments_lexer": "ipython3",
   "version": "3.10.13"
  }
 },
 "nbformat": 4,
 "nbformat_minor": 5
}
