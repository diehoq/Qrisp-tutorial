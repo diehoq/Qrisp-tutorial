{
 "cells": [
  {
   "cell_type": "markdown",
   "id": "ebe8e678",
   "metadata": {},
   "source": [
    "# Implementing Shor's Algorithm using the Qrisp framework on Cat Qubits\n",
    "This tutorial will walk you through the implementation of the famous Shor's algorithm for prime factoring using Qrisp on the Alice&Bob's Qiskit Provider. \n",
    "\n",
    "\n",
    "### Why Shor's prime factoring algorithm?\n",
    "A fair question is to ask why it is of any interest to implement Shor's algorithm and run it with a noise model. It all boils down to the quantum advantage that is provided by the quantum algorithm: the current state of the art classical algorithm for prime factoring is the [general number field sieve](https://en.wikipedia.org/wiki/General_number_field_sieve) (GNFS) which, under some assumptions, achieves the prime factoring of a integer in super-polynomial but sub-exponential time. On the contrary, Shor's algorithm promises a polynomial time to achieve the same task. Equivalently said, Shor's algorithm assures an superpolynomial speedup when compared with a classical algorithm. \n",
    "Published in 1994 by Peter Shor, Shor's algorithm shook the field of theoretical computer science, giving a glance of how powerful quantum computation could be. The implications of successfully running the Shor's algorithm on an actual machine are several, but let's just cite the most hype-generating one: the security of the popular RSA cryptosystem is based on the assumption that prime factorization is computationally hard. Well, that's not true anymore with Shor's algorithm.\n",
    "\n",
    "### Why Cat Qubits?\n",
    "However, we are far from running the algorithm efficiently on a quantum computer, since qubits and operations between them are noisy; at the moment, the information stored in the system is completaly lost after few operations. People in the field are frenatically trying to solve this problem by designing new and more efficient [quantum error correction codes](https://en.wikipedia.org/wiki/Quantum_error_correction) that are supposed to detect and correct errors. In the quantum realm, the errors on a elementary piece of information are bidimensional: you can have bit-flips ( $|0\\rangle \\leftrightarrow |1\\rangle$ ) and phase-flips ( $|+\\rangle \\leftrightarrow |-\\rangle$ ). Luckily, there exist a technology that is able to take care of one source of error, by exponentially subpressing the bit-flip rate, virtually allowing to only deal with the other type of error: the cat qubits architecture. We have a whole [series of tutorial](https://github.com/Alice-Bob-SW/emulation-examples/blob/main/0%20-%20An%20introduction%20to%20cat%20qubits.ipynb) and [suggested readings]() if you want to know more about it.\n",
    "\n",
    "Shor's algorithm requires considerably low error rates to give proper results - we will talk about numbers in a following section, when we will do the resource estimation of the algorithm - and therefore error correction is needed. So we tought - wait a second, why don't we use cat qubits then, which are the qubits of the future. And that's what we are going to do.\n",
    "\n",
    "### Why Qrisp?\n",
    "Qrisp is a high-level programming language for creating and compiling quantum algorithms which features numerous characteristics to smooth the workflow when writing and executing a quantum algorithm. \n",
    "If you want to get familiar with the Qrisp framework, have a look at the dedicated [series of tutorials](https://qrisp.eu/general/tutorial/index.html) available on Qrisp's website.\n",
    "\n",
    "Qrisp provides full compatibility with Qiskit's framework and it is possible to run Qrisp code directly on the Qiskit's backend making use of the `VirtualQiskitBackend`. This allows us to intantiate the emulator using the Alice & Bob Qiskit Provider as backend and run the code on a cat qubits architechture.\n",
    "\n",
    "\n"
   ]
  },
  {
   "cell_type": "code",
   "execution_count": 1,
   "id": "3a32e67d-f628-4f47-a945-b44a342cd6ac",
   "metadata": {},
   "outputs": [],
   "source": [
    "from qrisp import *\n",
    "from qiskit import *\n",
    "from qrisp.interface import VirtualQiskitBackend\n",
    "from qiskit_alice_bob_provider.local.provider import AliceBobLocalProvider\n",
    "\n",
    "provider = AliceBobLocalProvider()\n",
    "backend = provider.get_backend('EMU:40Q:LOGICAL_TARGET')\n",
    "vrtl_qasm_sim = VirtualQiskitBackend(backend)"
   ]
  },
  {
   "cell_type": "code",
   "execution_count": 2,
   "id": "963c9533",
   "metadata": {},
   "outputs": [],
   "source": [
    "import math\n",
    "import random\n",
    "import numpy as np"
   ]
  },
  {
   "cell_type": "markdown",
   "id": "c38e52c5",
   "metadata": {},
   "source": [
    "We would like to perform the trivial task of prime factoring the number 15. everybody knows that 5x3 = 15, but sometimes is better to double-check - or triple-check, as in this case. \n",
    "\n",
    "Why don't we start by comparing a classical brute-force period finding algorithm with its quantum counterpart and compare their performances?\n",
    "The implementation of the Shor's algorithm is inspired by Qrisp'official tutorial."
   ]
  },
  {
   "cell_type": "markdown",
   "id": "6a4ca5aa",
   "metadata": {},
   "source": [
    "## Classical Shor"
   ]
  },
  {
   "cell_type": "code",
   "execution_count": 3,
   "id": "5c9f3942",
   "metadata": {},
   "outputs": [],
   "source": [
    "def is_prime(n):\n",
    "    # returns True if n is prime\n",
    "    if n <= 1:\n",
    "        return False\n",
    "    elif n <= 3:\n",
    "        return True\n",
    "    elif n % 2 == 0 or n % 3 == 0:\n",
    "        return False\n",
    "    i = 5\n",
    "    while i * i <= n:\n",
    "        if n % i == 0 or n % (i + 2) == 0:\n",
    "            return False\n",
    "        i += 6\n",
    "    return True\n",
    "\n",
    "def find_period_classical(g,N):\n",
    "    # returns the period of g in Z_N\n",
    "    e = 1\n",
    "    while(pow(g, e, N) != 1):\n",
    "        e = e+1\n",
    "    return e\n",
    "\n",
    "def classical_Shor(N):\n",
    "    # returns the factors of N by using Shor's algorithm\n",
    "    # with a classical period finding routine\n",
    "    if N % 2 == 0:\n",
    "        return (2, N // 2)\n",
    "    if (is_prime(N)):\n",
    "        return (1,N)\n",
    "    \n",
    "    while True:\n",
    "        a = random.randint(2, N - 1)\n",
    "        if math.gcd(a, N) != 1:\n",
    "            return math.gcd(a, N), N // math.gcd(a, N)\n",
    "        \n",
    "        r = find_period_classical(a, N)\n",
    "        \n",
    "        if r % 2 == 0:\n",
    "            x = pow(a, r // 2, N)\n",
    "            p = math.gcd(x - 1, N)\n",
    "            q = math.gcd(x + 1, N)\n",
    "            if p != 1 and p != N:\n",
    "                return (p, N // p)\n",
    "            if q != 1 and q != N:\n",
    "                return (q, N // q)"
   ]
  },
  {
   "cell_type": "code",
   "execution_count": 4,
   "id": "e4a50a51",
   "metadata": {},
   "outputs": [
    {
     "name": "stdout",
     "output_type": "stream",
     "text": [
      "Test passed!\n"
     ]
    }
   ],
   "source": [
    "# Test the classical Shor's algorithm for N=10000\n",
    "\n",
    "N=10000\n",
    "check_list = list()\n",
    "for i in range(2,N):\n",
    "    (p,q) = classical_Shor(i)\n",
    "    check = (p*q == i)\n",
    "    if(check==False):\n",
    "        print(i, (p,q))\n",
    "else:\n",
    "    print('Test passed!')"
   ]
  },
  {
   "cell_type": "markdown",
   "id": "b4797328",
   "metadata": {},
   "source": [
    "## Quantum Shor"
   ]
  },
  {
   "cell_type": "code",
   "execution_count": 5,
   "id": "9662c206-a627-4a79-b3e8-0abe336f9140",
   "metadata": {},
   "outputs": [],
   "source": [
    "from sympy import continued_fraction_convergents, continued_fraction_iterator, Rational\n",
    "\n",
    "def get_r_candidates(approx):\n",
    "    rationals = continued_fraction_convergents(continued_fraction_iterator(Rational(approx)))\n",
    "    return [rat.q for rat in rationals]"
   ]
  },
  {
   "cell_type": "code",
   "execution_count": 6,
   "id": "223cabc4-2905-4edb-93b1-33457a85d4ba",
   "metadata": {},
   "outputs": [],
   "source": [
    "def find_order(a, N):\n",
    "    qg = QuantumModulus(N)\n",
    "    qg[:] = 1\n",
    "    qpe_res = QuantumFloat(2*qg.size + 1, exponent = -(2*qg.size + 1))\n",
    "    h(qpe_res)\n",
    "    x=a\n",
    "    for i in range(len(qpe_res)):\n",
    "        with control(qpe_res[i]):\n",
    "            qg *= x\n",
    "            x = (x*x)%N\n",
    "    QFT(qpe_res, inv = True)\n",
    "    return qpe_res.get_measurement(backend=vrtl_qasm_sim)"
   ]
  },
  {
   "cell_type": "code",
   "execution_count": 36,
   "id": "81e211ed",
   "metadata": {},
   "outputs": [],
   "source": [
    "def find_order_qiskit(a, N):\n",
    "    qg = QuantumModulus(N)\n",
    "    qg[:] = 1\n",
    "    qpe_res = QuantumFloat(2*qg.size + 1, exponent = -(2*qg.size + 1))\n",
    "    h(qpe_res)\n",
    "    x=a\n",
    "    for i in range(len(qpe_res)):\n",
    "        with control(qpe_res[i]):\n",
    "            qg *= x\n",
    "            x = (x*x)%N\n",
    "    QFT(qpe_res, inv = True)\n",
    "    #find size of the registers\n",
    "    qiskit_qc = qpe_res.qs.compile().to_qiskit()\n",
    "    cr = ClassicalRegister(qpe_res.size)\n",
    "    qiskit_qc.add_register(cr)\n",
    "    qiskit_qc.measure([4,5,6,7,8,9,10,11,12],[0,1,2,3,4,5,6,7,8])\n",
    "    #qiskit_qc.measure_all()\n",
    "    results = execute(qiskit_qc, backend=backend, shots=5).result().get_counts()\n",
    "    return results"
   ]
  },
  {
   "cell_type": "code",
   "execution_count": 8,
   "id": "5c03bb89",
   "metadata": {},
   "outputs": [],
   "source": [
    "def binary_to_float(binaries):\n",
    "    results = []\n",
    "    for binary in binaries:\n",
    "        # Convert binary string to floating-point decimal\n",
    "        decimal = 0\n",
    "        for i, bit in enumerate(binary):\n",
    "            if bit == '1':\n",
    "                decimal += 2 ** -(i + 1)\n",
    "        results.append(decimal)\n",
    "    return results\n"
   ]
  },
  {
   "cell_type": "code",
   "execution_count": 9,
   "metadata": {},
   "outputs": [],
   "source": [
    "def quantum_shor_qiskit(a,N):\n",
    "    meas_res = find_order_qiskit(a,N)\n",
    "    r_candidates = sum([get_r_candidates(approx) for approx in binary_to_float(meas_res.keys())], [])\n",
    "    for cand in sorted(set(r_candidates)):\n",
    "        if (a**cand)%N == 1:\n",
    "            r = cand\n",
    "            break\n",
    "    else:\n",
    "        raise Exception(\"Please sample again\")\n",
    "    if r % 2:\n",
    "        raise Exception(\"Please choose another a\")\n",
    "    p = np.gcd(a**(r//2)+1, N)\n",
    "    q = int(N/p)\n",
    "    if(p>q):\n",
    "        return(q,p)\n",
    "    return(p,q)"
   ]
  },
  {
   "cell_type": "code",
   "execution_count": 12,
   "id": "0dee107e",
   "metadata": {},
   "outputs": [
    {
     "data": {
      "text/plain": [
       "(3, 5)"
      ]
     },
     "execution_count": 12,
     "metadata": {},
     "output_type": "execute_result"
    }
   ],
   "source": [
    "quantum_shor_qiskit(2,15)"
   ]
  },
  {
   "cell_type": "code",
   "execution_count": null,
   "id": "5a458202",
   "metadata": {},
   "outputs": [],
   "source": [
    "# a=2\n",
    "# N=15\n",
    "# qg = QuantumModulus(N)\n",
    "# qg[:] = 1\n",
    "# qpe_res = QuantumFloat(2*qg.size + 1, exponent = -(2*qg.size + 1))\n",
    "# h(qpe_res)\n",
    "# x=a\n",
    "# for i in range(len(qpe_res)):\n",
    "#     with control(qpe_res[i]):\n",
    "#         qg *= x\n",
    "#         x = (x*x)%N\n",
    "# QFT(qpe_res, inv = True)\n",
    "# #find size of the registers\n",
    "# qiskit_qc = qpe_res.qs.compile().to_qiskit()\n",
    "# cr = ClassicalRegister(9)\n",
    "# qiskit_qc.add_register(cr)\n",
    "# qiskit_qc.measure([4,5,6,7,8,9,10,11,12],[0,1,2,3,4,5,6,7,8])\n",
    "# #qiskit_qc.measure_all()\n",
    "# qc=transpile(qiskit_qc,backend=backend) \n",
    "# for _ in range(10):\n",
    "#     results = execute(qc, backend=backend, shots=10).result().get_counts()\n",
    "#     r_candidates = sum([get_r_candidates(approx) for approx in binary_to_float(results.keys())], [])\n",
    "#     for cand in sorted(set(r_candidates)):\n",
    "#         if (a**cand)%N == 1:\n",
    "#             r = cand\n",
    "#             break\n",
    "#     else:\n",
    "#         raise Exception(\"Please sample again\")\n",
    "#     if r % 2:\n",
    "#         raise Exception(\"Please choose another a\")\n",
    "#     p = np.gcd(a**(r//2)+1, N)\n",
    "#     q = int(N/p)\n",
    "#     print(p,q)\n"
   ]
  },
  {
   "cell_type": "code",
   "execution_count": 75,
   "id": "3c8b91e8",
   "metadata": {},
   "outputs": [
    {
     "name": "stdout",
     "output_type": "stream",
     "text": [
      "(1, 15)\n",
      "(3, 5)\n",
      "(1, 15)\n",
      "(3, 5)\n",
      "(3, 5)\n",
      "(3, 5)\n",
      "(1, 15)\n",
      "(1, 15)\n",
      "(3, 5)\n",
      "(1, 15)\n"
     ]
    }
   ],
   "source": [
    "# for _ in range(10):\n",
    "#     print(quantum_shor_qiskit(2,15))"
   ]
  },
  {
   "cell_type": "markdown",
   "id": "91be5b03",
   "metadata": {},
   "source": [
    "Notice that the parameter a is provided manually, instead of it being drawn randomly as in the classical case: this is merely due to optimisation reason, as many runs of the algorithm are needed in order to find the right a. This could take a long time to achieve! "
   ]
  },
  {
   "cell_type": "code",
   "execution_count": 13,
   "id": "7ae6d0cd",
   "metadata": {},
   "outputs": [],
   "source": [
    "def quantum_shor(a,N):\n",
    "    meas_res = find_order(a,N)\n",
    "    print(meas_res)\n",
    "    r_candidates = sum([get_r_candidates(approx) for approx in meas_res.keys()], [])\n",
    "    for cand in sorted(set(r_candidates)):\n",
    "        if (a**cand)%N == 1:\n",
    "            r = cand\n",
    "            break\n",
    "    else:\n",
    "        raise Exception(\"Please sample again\")\n",
    "    if r % 2:\n",
    "        raise Exception(\"Please choose another a\")\n",
    "    p = np.gcd(a**(r//2)+1, N)\n",
    "    q = int(N/p)\n",
    "    if(p>q):\n",
    "        return(q,p)\n",
    "    return(p,q)"
   ]
  },
  {
   "cell_type": "code",
   "execution_count": 14,
   "metadata": {},
   "outputs": [],
   "source": [
    "N = 15\n",
    "a = 2\n",
    "#print(quantum_shor(a,N))\n"
   ]
  },
  {
   "cell_type": "markdown",
   "id": "d2e25a83-be47-41e6-984a-182053e7c705",
   "metadata": {},
   "source": [
    "The remarkable aspect of the Qrisp framework is the compactness and simplicity of implementing a fairly complex algorithm, such as Shor's, in a few lines of code as well as the relatively high level of abstraction with respect to gate-level. This task is much more complex to achieve in Qiskit, for example. You can find either a [specific tutorial to factor 15 with an hard-coded circuit](https://github.com/qiskit-community/qiskit-community-tutorials/blob/master/algorithms/shor_algorithm.ipynb); either a [general implementation](https://github.com/Qiskit/qiskit/blob/9c8eb06984c91156eac078f3d2d73b4cf68370b4/qiskit/algorithms/factorizers/shor.py), which has become deprecated. \n",
    "\n",
    "In both cases, however, you are forced to operate at gate-level and deal with Qiskit's circuit management technicalities."
   ]
  },
  {
   "cell_type": "markdown",
   "id": "2b098bd5",
   "metadata": {},
   "source": [
    "### But why is it so slow?\n",
    "Suppose for the moment to run a noiseless classical simulation of a quantum algorithm. [Gottesman-Knill theorem](https://en.wikipedia.org/wiki/Gottesman%E2%80%93Knill_theorem) states that circuits composed of Clifford gates can be perfectly simulated in polynomial time on a probabilistic classical computer. Shor's algorithm, however, uses non-Clifford gates and as a result the simulation is much longer than in the classical case, in particular for small instances.\n",
    "On top of that, when adding a noise model, the number of internal operations performed by the Qiskit's backend increases noticeably the computational cost, partially inficiating sparsity assumption of matrix operations and storage.\n",
    "\n",
    "ERROR CORRECTION?\n",
    "\n",
    "Anyway, Shor's prime factoring algoritms remains to this day the simplest algorithm to provide a super-polynomial speedup and actually observing it a work could give great insight into the realm of quantum computation."
   ]
  },
  {
   "cell_type": "markdown",
   "id": "9a24bdac",
   "metadata": {},
   "source": [
    "## Resource Estimation\n",
    "Let's talk numbers now! How many logical qubits and how many operations would you need to actually solve the problem? Well, for the number of qubits it is quite easy: if $N=2^n$ is the number you want to factorize, you need n qubits to encode its binary representation and $2n +1 $ additional qubits to store the results of the operations. So for $N = 15$, the circuit width of 13. For the number of operations, or depth of the circuit, is a whole different story. In fact, for starters the Qrisp circuit is made of 657 logical gates to implement the quantum sub-routine. Moreover, each of the gate needs to be transpiled into the native universal set of gates of the cat qubits architecture. This step increases the number of gates from the previous 657 to 33567!\n",
    "\n",
    "We define the quantum volume V as the product of the width and the depth of the circuit. In this case, V = 436371. \n",
    "\n",
    "Now, the logical emulator used here adds the noise model to each gate of the circuit. Talk about TARGET and EARLY\n",
    "\n",
    "\n",
    "Suppose now that the probability that an error occurs is p. Then the probability that no error occurs during the execution of the algorithm is $ (1 - p)^V$. For which error rate the algorithm succeds at least 10% of the times? \n",
    "$$\n",
    "(1-p)^V > 10\\%\n",
    "$$\n",
    "\n",
    "$$\n",
    "V ln(1-p) > ln(0.1)\n",
    "$$\n",
    "\n",
    "$$\n",
    "1- p > exp\\left(\\frac{ln(0.1)}{V}\\right)\n",
    "$$\n",
    "\n",
    "$$\n",
    "p < 1 -  exp\\left(\\frac{ln(0.1)}{V}\\right)\n",
    "$$"
   ]
  },
  {
   "cell_type": "markdown",
   "id": "d75b9cf5",
   "metadata": {},
   "source": [
    "##### LOGICAL_TARGET"
   ]
  },
  {
   "cell_type": "code",
   "execution_count": 15,
   "id": "373b7d95",
   "metadata": {},
   "outputs": [],
   "source": [
    "def error_rate_upper_bound(V, success_rate):\n",
    "    if success_rate <= 0 or success_rate > 1:\n",
    "        raise Exception('The success rate should be between 0 and 1')\n",
    "    return 1 - np.exp(np.log(success_rate)/V)"
   ]
  },
  {
   "cell_type": "code",
   "execution_count": 16,
   "id": "d75ec57a",
   "metadata": {},
   "outputs": [],
   "source": [
    "backend = provider.get_backend('EMU:40Q:LOGICAL_TARGET')\n",
    "vrtl_qasm_sim = VirtualQiskitBackend(backend)\n",
    "\n",
    "N = 15\n",
    "a = 2"
   ]
  },
  {
   "cell_type": "code",
   "execution_count": 17,
   "id": "d642eb8e",
   "metadata": {},
   "outputs": [
    {
     "data": {
      "text/plain": [
       "<QuantumFloat 'qpe_res'>"
      ]
     },
     "execution_count": 17,
     "metadata": {},
     "output_type": "execute_result"
    }
   ],
   "source": [
    "qg = QuantumModulus(N)\n",
    "qg[:] = 1\n",
    "qpe_res = QuantumFloat(2*qg.size + 1, exponent = -(2*qg.size + 1))\n",
    "h(qpe_res)\n",
    "x=a\n",
    "for i in range(len(qpe_res)):\n",
    "    with control(qpe_res[i]):\n",
    "        qg *= x\n",
    "        x = (x*x)%N\n",
    "QFT(qpe_res, inv = True)"
   ]
  },
  {
   "cell_type": "code",
   "execution_count": 18,
   "id": "be8a6253",
   "metadata": {},
   "outputs": [],
   "source": [
    "qc_qiskit_TARGET = qpe_res.qs.compile().to_qiskit()"
   ]
  },
  {
   "cell_type": "code",
   "execution_count": 19,
   "id": "b9f37ce5",
   "metadata": {},
   "outputs": [
    {
     "name": "stdout",
     "output_type": "stream",
     "text": [
      "13\n",
      "651\n"
     ]
    }
   ],
   "source": [
    "print(qc_qiskit_TARGET.width())\n",
    "print(qc_qiskit_TARGET.depth())"
   ]
  },
  {
   "cell_type": "code",
   "execution_count": 20,
   "id": "bd2b619a",
   "metadata": {},
   "outputs": [],
   "source": [
    "qc_qiskit_transpiled_TARGET = transpile(qc_qiskit_TARGET,backend=backend) "
   ]
  },
  {
   "cell_type": "code",
   "execution_count": 21,
   "id": "4ddd64b7",
   "metadata": {},
   "outputs": [
    {
     "name": "stdout",
     "output_type": "stream",
     "text": [
      "34607\n",
      "13\n"
     ]
    }
   ],
   "source": [
    "print(qc_qiskit_transpiled_TARGET.depth())\n",
    "print(qc_qiskit_transpiled_TARGET.width())"
   ]
  },
  {
   "cell_type": "code",
   "execution_count": 22,
   "id": "15aa3977",
   "metadata": {},
   "outputs": [
    {
     "name": "stdout",
     "output_type": "stream",
     "text": [
      "449891\n"
     ]
    }
   ],
   "source": [
    "q_volume_TARGET = qc_qiskit_transpiled_TARGET.depth() * (qc_qiskit_transpiled_TARGET.width())  #width * depth of the circuit\n",
    "print(q_volume_TARGET)"
   ]
  },
  {
   "cell_type": "code",
   "execution_count": 23,
   "id": "ee6fd19d",
   "metadata": {},
   "outputs": [
    {
     "data": {
      "text/plain": [
       "1.5406990728772385e-06"
      ]
     },
     "execution_count": 23,
     "metadata": {},
     "output_type": "execute_result"
    }
   ],
   "source": [
    "error_rate_upper_bound(q_volume_TARGET, 0.5)"
   ]
  },
  {
   "cell_type": "markdown",
   "id": "87352491",
   "metadata": {},
   "source": [
    "##### LOGICAL_EARLY"
   ]
  },
  {
   "cell_type": "code",
   "execution_count": 24,
   "id": "da7a5903",
   "metadata": {},
   "outputs": [],
   "source": [
    "backend = provider.get_backend('EMU:15Q:LOGICAL_EARLY')\n",
    "vrtl_qasm_sim = VirtualQiskitBackend(backend)\n",
    "\n",
    "N = 15\n",
    "a = 2\n",
    "\n"
   ]
  },
  {
   "cell_type": "code",
   "execution_count": 29,
   "id": "e139c4d7",
   "metadata": {},
   "outputs": [],
   "source": [
    "distance = 13\n",
    "n_qubits = 15 # the maximum number of qubit must be larger than the total number of qubit in order to transpile\n",
    "kappa_1 = 100\n",
    "kappa_2= 100000\n",
    "average_nb_photons=7\n",
    "t = 1e-3\n"
   ]
  },
  {
   "cell_type": "code",
   "execution_count": 27,
   "id": "9d438274",
   "metadata": {},
   "outputs": [],
   "source": [
    "from qiskit_alice_bob_provider.processor.logical_cat import _cx_error, _ccx_error, _1q_logical_error, _idle_error, _logical_bit_flip_error, _logical_phase_flip_error, _discrete_gate_time\n",
    "\n",
    "from qiskit_alice_bob_provider.local.backend import ProcessorSimulator\n",
    "from qiskit_alice_bob_provider.processor.logical_cat import LogicalCatProcessor"
   ]
  },
  {
   "cell_type": "code",
   "execution_count": 33,
   "id": "2351df4c",
   "metadata": {},
   "outputs": [
    {
     "name": "stdout",
     "output_type": "stream",
     "text": [
      "{'X': 0.00012951785392367743, 'Y': 1.8380082741908943e-07, 'Z': 0.0014169209214795753}\n",
      "{'XI': 0.00012931753868677414, 'YI': 1.835165569098732e-07, 'ZI': 0.0014147294795936814, 'IX': 0.00012931753868677414, 'IY': 1.835165569098732e-07, 'IZ': 0.0014147294795936814, 'XX': 1.6774874484995044e-08, 'YX': 2.380548871671667e-11, 'ZX': 1.8351655692959403e-07, 'XY': 2.380548871671667e-11, 'YY': 3.3782744159941896e-14, 'ZY': 2.604312377553646e-10, 'XZ': 1.8351655692959403e-07, 'YZ': 2.604312377553646e-10, 'ZZ': 2.007664897726529e-06}\n",
      "{'XII': 0.00012911753326193858, 'YII': 1.8323272605984425e-07, 'ZII': 0.0014125414270412828, 'IXI': 0.00012911753326193858, 'IYI': 1.8323272605984428e-07, 'IZI': 0.0014125414270412828, 'IIX': 0.00012911753326193858, 'IIY': 1.8323272605984428e-07, 'IIZ': 0.0014125414270412828, 'IXX': 1.6748930085403117e-08, 'IYX': 2.3768670610429194e-11, 'IZX': 1.8323272607953462e-07, 'IXY': 2.3768670610429194e-11, 'IYY': 3.3730495005137104e-14, 'IZY': 2.6002844892349645e-10, 'IXZ': 1.8323272607953462e-07, 'IYZ': 2.6002844892349645e-10, 'IZZ': 2.0045597978701993e-06, 'XXI': 1.6748930085403117e-08, 'YXI': 2.3768670610429194e-11, 'ZXI': 1.8323272607953464e-07, 'XYI': 2.3768670610429194e-11, 'YYI': 3.373049500513711e-14, 'ZYI': 2.6002844892349645e-10, 'XZI': 1.8323272607953462e-07, 'YZI': 2.6002844892349645e-10, 'ZZI': 2.004559797870199e-06, 'XIX': 1.6748930085403117e-08, 'YIX': 2.3768670610429194e-11, 'ZIX': 1.8323272607953464e-07, 'XIY': 2.3768670610429194e-11, 'YIY': 3.373049500513711e-14, 'ZIY': 2.6002844892349645e-10, 'XIZ': 1.8323272607953462e-07, 'YIZ': 2.6002844892349645e-10, 'ZIZ': 2.004559797870199e-06, 'XXX': 2.172645743135612e-12, 'YXX': 3.0832358101934606e-15, 'ZXX': 2.3768670612983392e-11, 'XYX': 3.083235810193461e-15, 'YYX': 4.375468523248321e-18, 'ZYX': 3.373049500876182e-14, 'XZX': 2.3768670612983392e-11, 'YZX': 3.373049500876181e-14, 'ZZX': 2.6002844895143934e-10, 'XXY': 3.083235810193461e-15, 'YXY': 4.375468523248321e-18, 'ZXY': 3.373049500876182e-14, 'XYY': 4.375468523248321e-18, 'YYY': 6.2092963290847314e-21, 'ZYY': 4.786747698521361e-17, 'XZY': 3.373049500876182e-14, 'YZY': 4.786747698521361e-17, 'ZZY': 3.6901046938239753e-13, 'XXZ': 2.3768670612983392e-11, 'YXZ': 3.373049500876181e-14, 'ZXZ': 2.6002844895143934e-10, 'XYZ': 3.373049500876182e-14, 'YYZ': 4.786747698521361e-17, 'ZYZ': 3.6901046938239753e-13, 'XZZ': 2.6002844895143934e-10, 'YZZ': 3.690104693823976e-13, 'ZZZ': 2.8447023969088706e-09}\n",
      "{'X': 0.00012951785392367743, 'Y': 1.8380082741908943e-07, 'Z': 0.0014169209214795753}\n",
      "0.0001297184801801566\n",
      "0.0014191167105977048\n"
     ]
    }
   ],
   "source": [
    "print(_1q_logical_error(d=distance, nbar=average_nb_photons, k1=kappa_1, k2=kappa_2))\n",
    "print(_cx_error(d=distance, nbar=average_nb_photons, k1=kappa_1, k2=kappa_2))\n",
    "print(_ccx_error(d=distance, nbar=average_nb_photons, k1=kappa_1, k2=kappa_2))\n",
    "print(_idle_error(t=t, d=distance, nbar=average_nb_photons, k1=kappa_1, k2=kappa_2))\n",
    "print(_logical_bit_flip_error(d=distance, nbar=average_nb_photons))\n",
    "print(_logical_phase_flip_error(d=distance, nbar=average_nb_photons, k1=kappa_1, k2=kappa_2))"
   ]
  },
  {
   "cell_type": "code",
   "execution_count": 31,
   "id": "07f24c76",
   "metadata": {},
   "outputs": [],
   "source": [
    "def logical_error_rate(distance,average_nb_photons,kappa_1,kappa_2):\n",
    "    return _logical_bit_flip_error(d=distance, nbar=average_nb_photons)+_logical_phase_flip_error(d=distance, nbar=average_nb_photons, k1=kappa_1, k2=kappa_2)"
   ]
  },
  {
   "cell_type": "code",
   "execution_count": 34,
   "id": "d1bf6a93",
   "metadata": {},
   "outputs": [
    {
     "name": "stdout",
     "output_type": "stream",
     "text": [
      "0.0015488351907778613\n"
     ]
    }
   ],
   "source": [
    "print(logical_error_rate(distance=distance,average_nb_photons=average_nb_photons,kappa_1=kappa_1,kappa_2=kappa_2))"
   ]
  },
  {
   "cell_type": "code",
   "execution_count": 35,
   "id": "2c355e4a",
   "metadata": {},
   "outputs": [
    {
     "data": {
      "text/plain": [
       "<QuantumFloat 'qpe_res'>"
      ]
     },
     "execution_count": 35,
     "metadata": {},
     "output_type": "execute_result"
    }
   ],
   "source": [
    "qg = QuantumModulus(N)\n",
    "qg[:] = 1\n",
    "qpe_res = QuantumFloat(2*qg.size + 1, exponent = -(2*qg.size + 1))\n",
    "h(qpe_res)\n",
    "x=a\n",
    "for i in range(len(qpe_res)):\n",
    "    with control(qpe_res[i]):\n",
    "        qg *= x\n",
    "        x = (x*x)%N\n",
    "QFT(qpe_res, inv = True)"
   ]
  },
  {
   "cell_type": "code",
   "execution_count": 37,
   "id": "12bb1483",
   "metadata": {},
   "outputs": [
    {
     "name": "stdout",
     "output_type": "stream",
     "text": [
      "(3, 5)\n",
      "(3, 5)\n",
      "(3, 5)\n",
      "(3, 5)\n",
      "(3, 5)\n",
      "(3, 5)\n",
      "(3, 5)\n",
      "(3, 5)\n",
      "(1, 15)\n",
      "(3, 5)\n"
     ]
    }
   ],
   "source": [
    "for _ in range(10):\n",
    "     print(quantum_shor_qiskit(a,N))"
   ]
  },
  {
   "cell_type": "code",
   "execution_count": 27,
   "id": "f9d6e80f",
   "metadata": {},
   "outputs": [],
   "source": [
    "qc_qiskit_EARLY = qpe_res.qs.compile().to_qiskit()"
   ]
  },
  {
   "cell_type": "code",
   "execution_count": 28,
   "id": "fae95a51",
   "metadata": {},
   "outputs": [
    {
     "name": "stdout",
     "output_type": "stream",
     "text": [
      "13\n",
      "655\n"
     ]
    }
   ],
   "source": [
    "print(qc_qiskit_EARLY.width())\n",
    "print(qc_qiskit_EARLY.depth())"
   ]
  },
  {
   "cell_type": "code",
   "execution_count": 29,
   "id": "eaa36a9d",
   "metadata": {},
   "outputs": [],
   "source": [
    "qc_qiskit_transpiled_EARLY = transpile(qc_qiskit_EARLY,backend=backend) "
   ]
  },
  {
   "cell_type": "code",
   "execution_count": 30,
   "id": "954e8ea8",
   "metadata": {},
   "outputs": [
    {
     "name": "stdout",
     "output_type": "stream",
     "text": [
      "33411\n",
      "13\n"
     ]
    }
   ],
   "source": [
    "print(qc_qiskit_transpiled_EARLY.depth())\n",
    "print(qc_qiskit_transpiled_EARLY.width())"
   ]
  },
  {
   "cell_type": "code",
   "execution_count": 31,
   "id": "86fa6bbc",
   "metadata": {},
   "outputs": [
    {
     "name": "stdout",
     "output_type": "stream",
     "text": [
      "434343\n"
     ]
    }
   ],
   "source": [
    "q_volume_EARLY = qc_qiskit_transpiled_EARLY.depth() * (qc_qiskit_transpiled_EARLY.width())  #width * depth of the circuit\n",
    "print(q_volume_EARLY)"
   ]
  },
  {
   "cell_type": "markdown",
   "id": "e55d06d0",
   "metadata": {},
   "source": [
    "##### CUSTUM"
   ]
  },
  {
   "cell_type": "markdown",
   "id": "062746e8",
   "metadata": {},
   "source": [
    "EMU:15Q:LOGICAL_EARLY\n",
    "\n",
    "- 1 ≤ nb_shots (int) ≤ 10⁷ . Default 1000\n",
    "- 4.0 ≤ average_nb_photons (float) ≤ 10⁵. Default 7.0\n",
    "- 10.0 < kappa_1 (float) ≤ 10⁵. Default 100.0\n",
    "- 100.0 ≤ kappa_2 (float) ≤ 10⁹. Default 10⁵\n",
    "- 10⁻⁷ ≤ kappa_1 / kappa_2 ≤ 10⁻¹\n",
    "- 3 ≤ distance (int) ≤ 300. Default 13. Distance must be an odd number.\n",
    "\n",
    "EMU:40Q:LOGICAL_TARGET\n",
    "\n",
    "- 1 ≤ nb_shots (int) ≤ 10⁷ . Default 1000\n",
    "- 4.0 ≤ average_nb_photons (float) ≤ 10⁵. Default 19.0\n",
    "- 10.0 < kappa_1 (float) ≤ 10⁵. Default 100.0\n",
    "- 100.0 ≤ kappa_2 (float) ≤ 10⁹. Default 10⁷\n",
    "- 10⁻⁷ ≤ kappa_1 / kappa_2 ≤ 10⁻¹\n",
    "- 3 ≤ distance (int) ≤ 300. Default 15. Distance must be an odd number."
   ]
  },
  {
   "cell_type": "code",
   "execution_count": null,
   "id": "18e2897f",
   "metadata": {},
   "outputs": [],
   "source": [
    "#backend = provider.get_backend('EMU:15Q:LOGICAL_EARLY', kappa_1=100, kappa_2=1000, distance3)"
   ]
  },
  {
   "cell_type": "code",
   "execution_count": 76,
   "id": "4001dec5",
   "metadata": {},
   "outputs": [
    {
     "name": "stdout",
     "output_type": "stream",
     "text": [
      "{'X': 2.494573711431247e-06, 'Y': 2.494573711431247e-06, 'Z': 0.49999750542628857}\n",
      "{'XI': 1.247280632817622e-06, 'YI': 1.247280632817622e-06, 'ZI': 0.2499975054325115, 'IX': 1.247280632817622e-06, 'IY': 1.247280632817622e-06, 'IZ': 0.2499975054325115, 'XX': 6.222898001763867e-12, 'YX': 6.222898001763867e-12, 'ZX': 1.2472806328176218e-06, 'XY': 6.222898001763867e-12, 'YY': 6.222898001763867e-12, 'ZY': 1.2472806328176218e-06, 'XZ': 1.2472806328176218e-06, 'YZ': 1.2472806328176218e-06, 'ZZ': 0.24999750543251148}\n",
      "{'XII': 6.236372049753334e-07, 'YII': 6.236372049753334e-07, 'ZII': 0.12499812907905074, 'IXI': 6.236372049753337e-07, 'IYI': 6.236372049753337e-07, 'IZI': 0.1249981290790508, 'IIX': 6.236372049753337e-07, 'IIY': 6.236372049753337e-07, 'IIZ': 0.1249981290790508, 'IXX': 3.11143347740417e-12, 'IYX': 3.11143347740417e-12, 'IZX': 6.236372049753336e-07, 'IXY': 3.11143347740417e-12, 'IYY': 3.11143347740417e-12, 'IZY': 6.236372049753336e-07, 'IXZ': 6.236372049753336e-07, 'IYZ': 6.236372049753336e-07, 'IZZ': 0.12499812907905078, 'XXI': 3.11143347740417e-12, 'YXI': 3.11143347740417e-12, 'ZXI': 6.236372049753336e-07, 'XYI': 3.11143347740417e-12, 'YYI': 3.11143347740417e-12, 'ZYI': 6.236372049753336e-07, 'XZI': 6.236372049753336e-07, 'YZI': 6.236372049753336e-07, 'ZZI': 0.12499812907905078, 'XIX': 3.11143347740417e-12, 'YIX': 3.11143347740417e-12, 'ZIX': 6.236372049753336e-07, 'XIY': 3.11143347740417e-12, 'YIY': 3.11143347740417e-12, 'ZIY': 6.236372049753336e-07, 'XIZ': 6.236372049753336e-07, 'YIZ': 6.236372049753336e-07, 'ZIZ': 0.12499812907905078, 'XXX': 1.552347776411818e-17, 'YXX': 1.552347776411818e-17, 'ZXX': 3.1114334774041695e-12, 'XYX': 1.552347776411818e-17, 'YYX': 1.552347776411818e-17, 'ZYX': 3.1114334774041695e-12, 'XZX': 3.1114334774041695e-12, 'YZX': 3.1114334774041695e-12, 'ZZX': 6.236372049753335e-07, 'XXY': 1.552347776411818e-17, 'YXY': 1.552347776411818e-17, 'ZXY': 3.1114334774041695e-12, 'XYY': 1.552347776411818e-17, 'YYY': 1.552347776411818e-17, 'ZYY': 3.1114334774041695e-12, 'XZY': 3.1114334774041695e-12, 'YZY': 3.1114334774041695e-12, 'ZZY': 6.236372049753335e-07, 'XXZ': 3.1114334774041695e-12, 'YXZ': 3.1114334774041695e-12, 'ZXZ': 6.236372049753335e-07, 'XYZ': 3.1114334774041695e-12, 'YYZ': 3.1114334774041695e-12, 'ZYZ': 6.236372049753335e-07, 'XZZ': 6.236372049753336e-07, 'YZZ': 6.236372049753336e-07, 'ZZZ': 0.12499812907905077}\n",
      "{'X': 0, 'Z': 0}\n",
      "4.989172314621408e-06\n",
      "282.48227742769615\n"
     ]
    }
   ],
   "source": [
    "distance = 3\n",
    "n_qubits = 15 # the maximum number of qubit must be larger than the total number of qubit in order to transpile\n",
    "kappa_1 = 100\n",
    "kappa_2= 1000\n",
    "average_nb_photons=7\n",
    "t = 1e-3\n",
    "name='EMU:15Q:CUSTUM'\n",
    "\n",
    "backend = ProcessorSimulator(LogicalCatProcessor(distance=distance, n_qubits=n_qubits, kappa_1=kappa_1, kappa_2=kappa_2, average_nb_photons = 7), translation_stage_plugin='sk_synthesis')\n",
    "backend.name = name\n",
    "vrtl_qasm_sim = VirtualQiskitBackend(backend)\n",
    "\n",
    "print(_1q_logical_error(d=distance, nbar=average_nb_photons, k1=kappa_1, k2=kappa_2))\n",
    "print(_cx_error(d=distance, nbar=average_nb_photons, k1=kappa_1, k2=kappa_2))\n",
    "print(_ccx_error(d=distance, nbar=average_nb_photons, k1=kappa_1, k2=kappa_2))\n",
    "print(_idle_error(t=t, d=distance, nbar=average_nb_photons, k1=kappa_1, k2=kappa_2))\n",
    "print(_logical_bit_flip_error(d=distance, nbar=average_nb_photons))\n",
    "print(_logical_phase_flip_error(d=distance, nbar=average_nb_photons, k1=kappa_1, k2=kappa_2))"
   ]
  },
  {
   "cell_type": "code",
   "execution_count": 77,
   "id": "502bada2",
   "metadata": {},
   "outputs": [
    {
     "data": {
      "text/plain": [
       "<QuantumFloat 'qpe_res'>"
      ]
     },
     "execution_count": 77,
     "metadata": {},
     "output_type": "execute_result"
    }
   ],
   "source": [
    "qg = QuantumModulus(N)\n",
    "qg[:] = 1\n",
    "qpe_res = QuantumFloat(2*qg.size + 1, exponent = -(2*qg.size + 1))\n",
    "h(qpe_res)\n",
    "x=a\n",
    "for i in range(len(qpe_res)):\n",
    "    with control(qpe_res[i]):\n",
    "        qg *= x\n",
    "        x = (x*x)%N\n",
    "QFT(qpe_res, inv = True)"
   ]
  },
  {
   "cell_type": "code",
   "execution_count": 78,
   "metadata": {},
   "outputs": [],
   "source": [
    "qc_circuit = qpe_res.qs.compile().to_qiskit()"
   ]
  },
  {
   "cell_type": "code",
   "execution_count": 79,
   "id": "8cbfc951",
   "metadata": {},
   "outputs": [],
   "source": [
    "qc_qiskit_transpiled_CUSTUM= transpile(qc_circuit,backend=backend)"
   ]
  },
  {
   "cell_type": "code",
   "execution_count": 81,
   "id": "079933e8",
   "metadata": {},
   "outputs": [
    {
     "name": "stdout",
     "output_type": "stream",
     "text": [
      "(3, 5)\n",
      "(1, 15)\n",
      "(3, 5)\n",
      "(3, 5)\n"
     ]
    }
   ],
   "source": [
    "for _ in range(4):\n",
    "    print(quantum_shor_qiskit(a,N))"
   ]
  },
  {
   "cell_type": "code",
   "execution_count": null,
   "id": "5dcfc28d",
   "metadata": {},
   "outputs": [],
   "source": [
    "# shots = 2\n",
    "# transpile once\n"
   ]
  },
  {
   "cell_type": "markdown",
   "id": "602df65c",
   "metadata": {},
   "source": [
    "## Further readings:\n",
    "- Shor's paper\n",
    "- Bitcoin paper\n",
    "- Elliptic curve paper\n"
   ]
  }
 ],
 "metadata": {
  "kernelspec": {
   "display_name": "Python 3 (ipykernel)",
   "language": "python",
   "name": "python3"
  },
  "language_info": {
   "codemirror_mode": {
    "name": "ipython",
    "version": 3
   },
   "file_extension": ".py",
   "mimetype": "text/x-python",
   "name": "python",
   "nbconvert_exporter": "python",
   "pygments_lexer": "ipython3",
   "version": "3.10.13"
  }
 },
 "nbformat": 4,
 "nbformat_minor": 5
}
