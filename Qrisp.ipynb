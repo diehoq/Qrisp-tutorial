{
 "cells": [
  {
   "cell_type": "code",
   "execution_count": null,
   "id": "f3f8f06a",
   "metadata": {},
   "outputs": [],
   "source": [
    "pip install qrisp"
   ]
  },
  {
   "cell_type": "code",
   "execution_count": 1,
   "id": "3a32e67d-f628-4f47-a945-b44a342cd6ac",
   "metadata": {},
   "outputs": [],
   "source": [
    "from qrisp import *\n",
    "from qrisp.interface import VirtualQiskitBackend\n",
    "from qiskit_alice_bob_provider.local.provider import AliceBobLocalProvider\n",
    "\n",
    "provider = AliceBobLocalProvider()\n",
    "backend = provider.get_backend('EMU:40Q:LOGICAL_TARGET')\n",
    "vrtl_qasm_sim = VirtualQiskitBackend(backend)"
   ]
  },
  {
   "cell_type": "code",
   "execution_count": 2,
   "id": "0f81ab63-c9f8-45e7-93da-96acce84f4c9",
   "metadata": {},
   "outputs": [],
   "source": [
    "N = 15\n",
    "\n",
    "a = 2\n",
    "\n",
    "qg = QuantumModulus(N)\n",
    "\n",
    "qg[:] = 1"
   ]
  },
  {
   "cell_type": "code",
   "execution_count": 3,
   "id": "6a13a720-8d52-45fa-b671-8968008ce801",
   "metadata": {},
   "outputs": [
    {
     "data": {
      "text/plain": [
       "<QuantumFloat 'qpe_res'>"
      ]
     },
     "execution_count": 3,
     "metadata": {},
     "output_type": "execute_result"
    }
   ],
   "source": [
    "n = qg.size\n",
    "\n",
    "qpe_res = QuantumFloat(2*n+1, exponent = -(2*n+1))\n",
    "\n",
    "h(qpe_res)"
   ]
  },
  {
   "cell_type": "code",
   "execution_count": 4,
   "id": "a01e6a78-c864-4c5e-8987-cc7995934cbf",
   "metadata": {},
   "outputs": [],
   "source": [
    "x = a\n",
    "for i in range(len(qpe_res)):\n",
    "    with control(qpe_res[i]):\n",
    "        qg *= x\n",
    "        x = (x*x)%N"
   ]
  },
  {
   "cell_type": "code",
   "execution_count": 5,
   "id": "85bd7cb0-79fc-4cb4-99a1-f5b0c9d3f9ed",
   "metadata": {},
   "outputs": [
    {
     "data": {
      "text/plain": [
       "<QuantumFloat 'qpe_res'>"
      ]
     },
     "execution_count": 5,
     "metadata": {},
     "output_type": "execute_result"
    }
   ],
   "source": [
    "QFT(qpe_res, inv = True)\n",
    "\n",
    "# print(qpe_res.qs)"
   ]
  },
  {
   "cell_type": "code",
   "execution_count": 6,
   "id": "d822ad9b-5208-456e-a766-f412390ae570",
   "metadata": {},
   "outputs": [
    {
     "name": "stderr",
     "output_type": "stream",
     "text": [
      "ERROR:stevedore.extension:Could not load 'ibm_backend': No module named 'qiskit.circuit.singleton'\n",
      "ERROR:stevedore.extension:Could not load 'ibm_dynamic_circuits': No module named 'qiskit.circuit.singleton'\n",
      "ERROR:stevedore.extension:Could not load 'ibm_backend': No module named 'qiskit.circuit.singleton'\n",
      "ERROR:stevedore.extension:Could not load 'ibm_dynamic_circuits': No module named 'qiskit.circuit.singleton'\n",
      "ERROR:stevedore.extension:Could not load 'ibm_backend': No module named 'qiskit.circuit.singleton'\n",
      "ERROR:stevedore.extension:Could not load 'ibm_dynamic_circuits': No module named 'qiskit.circuit.singleton'\n",
      "ERROR:stevedore.extension:Could not load 'ibm_backend': No module named 'qiskit.circuit.singleton'\n",
      "ERROR:stevedore.extension:Could not load 'ibm_dynamic_circuits': No module named 'qiskit.circuit.singleton'\n"
     ]
    }
   ],
   "source": [
    "meas_res = qpe_res.get_measurement(backend=vrtl_qasm_sim)\n",
    "#meas_res = qpe_res.get_measurement()\n",
    "#print(meas_res)\n",
    "\n",
    "#qasm_str = qpe_res.qs.compile().qasm()\n",
    "\n",
    "#print(qasm_str)\n",
    "\n",
    "#from qiskit import QuantumCircuit\n",
    "\n",
    "#circ = QuantumCircuit.from_qasm_str(qasm_str)\n",
    "\n",
    "#from qiskit import QuantumCircuit\n",
    "#from qiskit_alice_bob_provider.local.provider import AliceBobLocalProvider\n",
    "#from qiskit import transpile, execute\n",
    "\n",
    "#print(circ)\n",
    "\n",
    "#provider = AliceBobLocalProvider()\n",
    "#backend = provider.get_backend('EMU:40Q:LOGICAL_TARGET')\n",
    "\n",
    "#circ = transpile(circ, backend)"
   ]
  },
  {
   "cell_type": "code",
   "execution_count": 7,
   "id": "9662c206-a627-4a79-b3e8-0abe336f9140",
   "metadata": {},
   "outputs": [],
   "source": [
    "from sympy import continued_fraction_convergents, continued_fraction_iterator, Rational\n",
    "\n",
    "def get_r_candidates(approx):\n",
    "    rationals = continued_fraction_convergents(continued_fraction_iterator(Rational(approx)))\n",
    "    return [rat.q for rat in rationals]"
   ]
  },
  {
   "cell_type": "code",
   "execution_count": 8,
   "id": "f54a1352-e470-49b1-994b-8bf1e3166cb2",
   "metadata": {},
   "outputs": [],
   "source": [
    "r_candidates = sum([get_r_candidates(approx) for approx in meas_res.keys()], [])"
   ]
  },
  {
   "cell_type": "code",
   "execution_count": 9,
   "id": "ea599145-bd19-46ca-8265-700ed7ca44c7",
   "metadata": {},
   "outputs": [],
   "source": [
    "for cand in r_candidates:\n",
    "    if (a**cand)%N == 1:\n",
    "        r = cand\n",
    "        break\n",
    "else:\n",
    "    raise Exception(\"Please sample again\")\n",
    "\n",
    "if r % 2:\n",
    "    raise Exception(\"Please choose another a\")"
   ]
  },
  {
   "cell_type": "code",
   "execution_count": 10,
   "id": "935299e9-a8ed-4f40-8ce5-a1130471a1a1",
   "metadata": {},
   "outputs": [
    {
     "name": "stdout",
     "output_type": "stream",
     "text": [
      "5\n"
     ]
    }
   ],
   "source": [
    "import numpy as np\n",
    "\n",
    "g = np.gcd(a**(r//2)+1, N)\n",
    "\n",
    "print(g)"
   ]
  },
  {
   "cell_type": "code",
   "execution_count": 11,
   "id": "223cabc4-2905-4edb-93b1-33457a85d4ba",
   "metadata": {},
   "outputs": [],
   "source": [
    "def find_order(a, N):\n",
    "    qg = QuantumModulus(N)\n",
    "    qg[:] = 1\n",
    "    qpe_res = QuantumFloat(2*qg.size + 1, exponent = -(2*qg.size + 1))\n",
    "    h(qpe_res)\n",
    "    for i in range(len(qpe_res)):\n",
    "        with control(qpe_res[i]):\n",
    "            qg *= a\n",
    "            a = (a*a)%N\n",
    "    QFT(qpe_res, inv = True)\n",
    "    return qpe_res.get_measurement()"
   ]
  },
  {
   "cell_type": "code",
   "execution_count": null,
   "id": "d2e25a83-be47-41e6-984a-182053e7c705",
   "metadata": {},
   "outputs": [],
   "source": []
  }
 ],
 "metadata": {
  "kernelspec": {
   "display_name": "Python 3 (ipykernel)",
   "language": "python",
   "name": "python3"
  },
  "language_info": {
   "codemirror_mode": {
    "name": "ipython",
    "version": 3
   },
   "file_extension": ".py",
   "mimetype": "text/x-python",
   "name": "python",
   "nbconvert_exporter": "python",
   "pygments_lexer": "ipython3",
   "version": "3.10.12"
  }
 },
 "nbformat": 4,
 "nbformat_minor": 5
}
